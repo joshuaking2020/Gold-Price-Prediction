{
 "cells": [
  {
   "cell_type": "code",
   "execution_count": 515,
   "id": "bd69f60f",
   "metadata": {},
   "outputs": [],
   "source": [
    "import pandas as pd \n",
    "import numpy as np \n",
    "import matplotlib.pyplot as plt \n",
    "import seaborn as sns\n",
    "%matplotlib inline\n",
    "from sklearn.metrics import accuracy_score\n",
    "import warnings\n",
    "warnings.filterwarnings('ignore')"
   ]
  },
  {
   "cell_type": "code",
   "execution_count": 516,
   "id": "34801fa5",
   "metadata": {},
   "outputs": [
    {
     "data": {
      "text/html": [
       "<div>\n",
       "<style scoped>\n",
       "    .dataframe tbody tr th:only-of-type {\n",
       "        vertical-align: middle;\n",
       "    }\n",
       "\n",
       "    .dataframe tbody tr th {\n",
       "        vertical-align: top;\n",
       "    }\n",
       "\n",
       "    .dataframe thead th {\n",
       "        text-align: right;\n",
       "    }\n",
       "</style>\n",
       "<table border=\"1\" class=\"dataframe\">\n",
       "  <thead>\n",
       "    <tr style=\"text-align: right;\">\n",
       "      <th></th>\n",
       "      <th>Unnamed: 0</th>\n",
       "      <th>Dates</th>\n",
       "      <th>Price</th>\n",
       "    </tr>\n",
       "  </thead>\n",
       "  <tbody>\n",
       "    <tr>\n",
       "      <th>0</th>\n",
       "      <td>0</td>\n",
       "      <td>01-01-2011</td>\n",
       "      <td>1,961</td>\n",
       "    </tr>\n",
       "    <tr>\n",
       "      <th>1</th>\n",
       "      <td>1</td>\n",
       "      <td>02-01-2011</td>\n",
       "      <td>1,961</td>\n",
       "    </tr>\n",
       "    <tr>\n",
       "      <th>2</th>\n",
       "      <td>2</td>\n",
       "      <td>03-01-2011</td>\n",
       "      <td>1,960</td>\n",
       "    </tr>\n",
       "    <tr>\n",
       "      <th>3</th>\n",
       "      <td>3</td>\n",
       "      <td>04-01-2011</td>\n",
       "      <td>1,957</td>\n",
       "    </tr>\n",
       "    <tr>\n",
       "      <th>4</th>\n",
       "      <td>4</td>\n",
       "      <td>05-01-2011</td>\n",
       "      <td>1,991</td>\n",
       "    </tr>\n",
       "  </tbody>\n",
       "</table>\n",
       "</div>"
      ],
      "text/plain": [
       "   Unnamed: 0       Dates  Price\n",
       "0           0  01-01-2011  1,961\n",
       "1           1  02-01-2011  1,961\n",
       "2           2  03-01-2011  1,960\n",
       "3           3  04-01-2011  1,957\n",
       "4           4  05-01-2011  1,991"
      ]
     },
     "execution_count": 516,
     "metadata": {},
     "output_type": "execute_result"
    }
   ],
   "source": [
    "df=pd.read_csv(\"D:\\\\Sandesh\\\\Data Science\\\\Project - 1\\\\Dataset\\\\gold_list.csv\")\n",
    "#,index_col=1,parse_dates=[1],squeeze=False)\n",
    "df.head()\n"
   ]
  },
  {
   "cell_type": "code",
   "execution_count": 517,
   "id": "a7e50b9a",
   "metadata": {},
   "outputs": [
    {
     "data": {
      "text/plain": [
       "Unnamed: 0     int64\n",
       "Dates         object\n",
       "Price         object\n",
       "dtype: object"
      ]
     },
     "execution_count": 517,
     "metadata": {},
     "output_type": "execute_result"
    }
   ],
   "source": [
    "df.dtypes"
   ]
  },
  {
   "cell_type": "code",
   "execution_count": 518,
   "id": "d0615a8e",
   "metadata": {},
   "outputs": [
    {
     "data": {
      "text/html": [
       "<div>\n",
       "<style scoped>\n",
       "    .dataframe tbody tr th:only-of-type {\n",
       "        vertical-align: middle;\n",
       "    }\n",
       "\n",
       "    .dataframe tbody tr th {\n",
       "        vertical-align: top;\n",
       "    }\n",
       "\n",
       "    .dataframe thead th {\n",
       "        text-align: right;\n",
       "    }\n",
       "</style>\n",
       "<table border=\"1\" class=\"dataframe\">\n",
       "  <thead>\n",
       "    <tr style=\"text-align: right;\">\n",
       "      <th></th>\n",
       "      <th>Dates</th>\n",
       "      <th>Price</th>\n",
       "    </tr>\n",
       "  </thead>\n",
       "  <tbody>\n",
       "    <tr>\n",
       "      <th>0</th>\n",
       "      <td>2011-01-01</td>\n",
       "      <td>1961</td>\n",
       "    </tr>\n",
       "    <tr>\n",
       "      <th>1</th>\n",
       "      <td>2011-01-02</td>\n",
       "      <td>1961</td>\n",
       "    </tr>\n",
       "    <tr>\n",
       "      <th>2</th>\n",
       "      <td>2011-01-03</td>\n",
       "      <td>1960</td>\n",
       "    </tr>\n",
       "    <tr>\n",
       "      <th>3</th>\n",
       "      <td>2011-01-04</td>\n",
       "      <td>1957</td>\n",
       "    </tr>\n",
       "    <tr>\n",
       "      <th>4</th>\n",
       "      <td>2011-01-05</td>\n",
       "      <td>1991</td>\n",
       "    </tr>\n",
       "    <tr>\n",
       "      <th>...</th>\n",
       "      <td>...</td>\n",
       "      <td>...</td>\n",
       "    </tr>\n",
       "    <tr>\n",
       "      <th>3972</th>\n",
       "      <td>2021-12-27</td>\n",
       "      <td>4703</td>\n",
       "    </tr>\n",
       "    <tr>\n",
       "      <th>3973</th>\n",
       "      <td>2021-12-28</td>\n",
       "      <td>4703</td>\n",
       "    </tr>\n",
       "    <tr>\n",
       "      <th>3974</th>\n",
       "      <td>2021-12-29</td>\n",
       "      <td>4703</td>\n",
       "    </tr>\n",
       "    <tr>\n",
       "      <th>3975</th>\n",
       "      <td>2021-12-30</td>\n",
       "      <td>4758</td>\n",
       "    </tr>\n",
       "    <tr>\n",
       "      <th>3976</th>\n",
       "      <td>2021-12-31</td>\n",
       "      <td>4760</td>\n",
       "    </tr>\n",
       "  </tbody>\n",
       "</table>\n",
       "<p>3977 rows × 2 columns</p>\n",
       "</div>"
      ],
      "text/plain": [
       "          Dates  Price\n",
       "0    2011-01-01   1961\n",
       "1    2011-01-02   1961\n",
       "2    2011-01-03   1960\n",
       "3    2011-01-04   1957\n",
       "4    2011-01-05   1991\n",
       "...         ...    ...\n",
       "3972 2021-12-27   4703\n",
       "3973 2021-12-28   4703\n",
       "3974 2021-12-29   4703\n",
       "3975 2021-12-30   4758\n",
       "3976 2021-12-31   4760\n",
       "\n",
       "[3977 rows x 2 columns]"
      ]
     },
     "execution_count": 518,
     "metadata": {},
     "output_type": "execute_result"
    }
   ],
   "source": [
    "del df['Unnamed: 0']\n",
    "df['Dates']=pd.to_datetime(df['Dates'], dayfirst = True)\n",
    "df['Price']=df['Price'].str.replace(',','')\n",
    "df['Price']=df['Price'].astype('int')\n",
    "df"
   ]
  },
  {
   "cell_type": "code",
   "execution_count": 519,
   "id": "a6a90ad4",
   "metadata": {},
   "outputs": [
    {
     "data": {
      "text/html": [
       "<div>\n",
       "<style scoped>\n",
       "    .dataframe tbody tr th:only-of-type {\n",
       "        vertical-align: middle;\n",
       "    }\n",
       "\n",
       "    .dataframe tbody tr th {\n",
       "        vertical-align: top;\n",
       "    }\n",
       "\n",
       "    .dataframe thead th {\n",
       "        text-align: right;\n",
       "    }\n",
       "</style>\n",
       "<table border=\"1\" class=\"dataframe\">\n",
       "  <thead>\n",
       "    <tr style=\"text-align: right;\">\n",
       "      <th></th>\n",
       "      <th>Dates</th>\n",
       "      <th>Price</th>\n",
       "    </tr>\n",
       "  </thead>\n",
       "  <tbody>\n",
       "    <tr>\n",
       "      <th>0</th>\n",
       "      <td>2011-01-01</td>\n",
       "      <td>1961</td>\n",
       "    </tr>\n",
       "    <tr>\n",
       "      <th>1</th>\n",
       "      <td>2011-01-02</td>\n",
       "      <td>1961</td>\n",
       "    </tr>\n",
       "    <tr>\n",
       "      <th>2</th>\n",
       "      <td>2011-01-03</td>\n",
       "      <td>1960</td>\n",
       "    </tr>\n",
       "    <tr>\n",
       "      <th>3</th>\n",
       "      <td>2011-01-04</td>\n",
       "      <td>1957</td>\n",
       "    </tr>\n",
       "    <tr>\n",
       "      <th>4</th>\n",
       "      <td>2011-01-05</td>\n",
       "      <td>1991</td>\n",
       "    </tr>\n",
       "    <tr>\n",
       "      <th>...</th>\n",
       "      <td>...</td>\n",
       "      <td>...</td>\n",
       "    </tr>\n",
       "    <tr>\n",
       "      <th>3972</th>\n",
       "      <td>2021-12-27</td>\n",
       "      <td>4703</td>\n",
       "    </tr>\n",
       "    <tr>\n",
       "      <th>3973</th>\n",
       "      <td>2021-12-28</td>\n",
       "      <td>4703</td>\n",
       "    </tr>\n",
       "    <tr>\n",
       "      <th>3974</th>\n",
       "      <td>2021-12-29</td>\n",
       "      <td>4703</td>\n",
       "    </tr>\n",
       "    <tr>\n",
       "      <th>3975</th>\n",
       "      <td>2021-12-30</td>\n",
       "      <td>4758</td>\n",
       "    </tr>\n",
       "    <tr>\n",
       "      <th>3976</th>\n",
       "      <td>2021-12-31</td>\n",
       "      <td>4760</td>\n",
       "    </tr>\n",
       "  </tbody>\n",
       "</table>\n",
       "<p>3977 rows × 2 columns</p>\n",
       "</div>"
      ],
      "text/plain": [
       "          Dates  Price\n",
       "0    2011-01-01   1961\n",
       "1    2011-01-02   1961\n",
       "2    2011-01-03   1960\n",
       "3    2011-01-04   1957\n",
       "4    2011-01-05   1991\n",
       "...         ...    ...\n",
       "3972 2021-12-27   4703\n",
       "3973 2021-12-28   4703\n",
       "3974 2021-12-29   4703\n",
       "3975 2021-12-30   4758\n",
       "3976 2021-12-31   4760\n",
       "\n",
       "[3977 rows x 2 columns]"
      ]
     },
     "execution_count": 519,
     "metadata": {},
     "output_type": "execute_result"
    }
   ],
   "source": [
    "df"
   ]
  },
  {
   "cell_type": "code",
   "execution_count": 520,
   "id": "21f887d6",
   "metadata": {},
   "outputs": [
    {
     "data": {
      "text/plain": [
       "Dates    datetime64[ns]\n",
       "Price             int32\n",
       "dtype: object"
      ]
     },
     "execution_count": 520,
     "metadata": {},
     "output_type": "execute_result"
    }
   ],
   "source": [
    "df.dtypes"
   ]
  },
  {
   "cell_type": "code",
   "execution_count": 521,
   "id": "81e3f235",
   "metadata": {},
   "outputs": [
    {
     "data": {
      "text/html": [
       "<div>\n",
       "<style scoped>\n",
       "    .dataframe tbody tr th:only-of-type {\n",
       "        vertical-align: middle;\n",
       "    }\n",
       "\n",
       "    .dataframe tbody tr th {\n",
       "        vertical-align: top;\n",
       "    }\n",
       "\n",
       "    .dataframe thead th {\n",
       "        text-align: right;\n",
       "    }\n",
       "</style>\n",
       "<table border=\"1\" class=\"dataframe\">\n",
       "  <thead>\n",
       "    <tr style=\"text-align: right;\">\n",
       "      <th></th>\n",
       "      <th>Dates</th>\n",
       "      <th>Price</th>\n",
       "      <th>year</th>\n",
       "    </tr>\n",
       "  </thead>\n",
       "  <tbody>\n",
       "    <tr>\n",
       "      <th>0</th>\n",
       "      <td>2011-01-01</td>\n",
       "      <td>1961</td>\n",
       "      <td>2011</td>\n",
       "    </tr>\n",
       "    <tr>\n",
       "      <th>1</th>\n",
       "      <td>2011-01-02</td>\n",
       "      <td>1961</td>\n",
       "      <td>2011</td>\n",
       "    </tr>\n",
       "    <tr>\n",
       "      <th>2</th>\n",
       "      <td>2011-01-03</td>\n",
       "      <td>1960</td>\n",
       "      <td>2011</td>\n",
       "    </tr>\n",
       "    <tr>\n",
       "      <th>3</th>\n",
       "      <td>2011-01-04</td>\n",
       "      <td>1957</td>\n",
       "      <td>2011</td>\n",
       "    </tr>\n",
       "    <tr>\n",
       "      <th>4</th>\n",
       "      <td>2011-01-05</td>\n",
       "      <td>1991</td>\n",
       "      <td>2011</td>\n",
       "    </tr>\n",
       "  </tbody>\n",
       "</table>\n",
       "</div>"
      ],
      "text/plain": [
       "       Dates  Price  year\n",
       "0 2011-01-01   1961  2011\n",
       "1 2011-01-02   1961  2011\n",
       "2 2011-01-03   1960  2011\n",
       "3 2011-01-04   1957  2011\n",
       "4 2011-01-05   1991  2011"
      ]
     },
     "execution_count": 521,
     "metadata": {},
     "output_type": "execute_result"
    }
   ],
   "source": [
    "# How to extract year from the Dates columns.\n",
    "\n",
    "df['year'] = df['Dates'].dt.year\n",
    "df.head()"
   ]
  },
  {
   "cell_type": "code",
   "execution_count": 524,
   "id": "48a7d745",
   "metadata": {},
   "outputs": [
    {
     "data": {
      "text/plain": [
       "array([2011, 2012, 2013, 2014, 2015, 2016, 2017, 2018, 2019, 2020, 2021],\n",
       "      dtype=int64)"
      ]
     },
     "execution_count": 524,
     "metadata": {},
     "output_type": "execute_result"
    }
   ],
   "source": [
    "df['year'].unique()"
   ]
  },
  {
   "cell_type": "code",
   "execution_count": 533,
   "id": "8e869f5a",
   "metadata": {},
   "outputs": [
    {
     "name": "stdout",
     "output_type": "stream",
     "text": [
      "(array([], dtype=int64),)\n"
     ]
    }
   ],
   "source": [
    "df[df['year']=='2021']\n",
    "\n",
    "df[df.Dates.dt.year.eq(2021)]\n",
    "\n",
    "from scipy import stats\n",
    "z = np.abs(stats.zscore(df['Price']))\n",
    "a=(np.where(z > 3))\n",
    "\n",
    "print(a)\n"
   ]
  },
  {
   "cell_type": "code",
   "execution_count": 505,
   "id": "40db2b1c",
   "metadata": {},
   "outputs": [
    {
     "data": {
      "image/png": "[encoded data removed]",
      "text/plain": [
       "<Figure size 864x576 with 1 Axes>"
      ]
     },
     "metadata": {
      "needs_background": "light"
     },
     "output_type": "display_data"
    }
   ],
   "source": [
    "plt.figure(figsize=(12,8))\n",
    "\n",
    "sns.boxplot(x = 'year',y='Price',data = df)\n",
    "plt.show()"
   ]
  },
  {
   "cell_type": "code",
   "execution_count": 537,
   "id": "88f5ae33",
   "metadata": {},
   "outputs": [
    {
     "data": {
      "text/plain": [
       "<matplotlib.collections.PathCollection at 0x25a4a98bc70>"
      ]
     },
     "execution_count": 537,
     "metadata": {},
     "output_type": "execute_result"
    },
    {
     "data": {
      "image/png": "[encoded data removed]",
      "text/plain": [
       "<Figure size 720x360 with 1 Axes>"
      ]
     },
     "metadata": {
      "needs_background": "light"
     },
     "output_type": "display_data"
    }
   ],
   "source": [
    "fig, ax = plt.subplots(figsize = (10,5))\n",
    "ax.scatter(df['Dates'], df['Price'])\n",
    " \n",
    "    "
   ]
  },
  {
   "cell_type": "code",
   "execution_count": 471,
   "id": "09022922",
   "metadata": {},
   "outputs": [
    {
     "data": {
      "text/html": [
       "<div>\n",
       "<style scoped>\n",
       "    .dataframe tbody tr th:only-of-type {\n",
       "        vertical-align: middle;\n",
       "    }\n",
       "\n",
       "    .dataframe tbody tr th {\n",
       "        vertical-align: top;\n",
       "    }\n",
       "\n",
       "    .dataframe thead th {\n",
       "        text-align: right;\n",
       "    }\n",
       "</style>\n",
       "<table border=\"1\" class=\"dataframe\">\n",
       "  <thead>\n",
       "    <tr style=\"text-align: right;\">\n",
       "      <th></th>\n",
       "      <th>Price</th>\n",
       "    </tr>\n",
       "  </thead>\n",
       "  <tbody>\n",
       "    <tr>\n",
       "      <th>count</th>\n",
       "      <td>3977.000000</td>\n",
       "    </tr>\n",
       "    <tr>\n",
       "      <th>mean</th>\n",
       "      <td>3222.480262</td>\n",
       "    </tr>\n",
       "    <tr>\n",
       "      <th>std</th>\n",
       "      <td>780.822847</td>\n",
       "    </tr>\n",
       "    <tr>\n",
       "      <th>min</th>\n",
       "      <td>1957.000000</td>\n",
       "    </tr>\n",
       "    <tr>\n",
       "      <th>25%</th>\n",
       "      <td>2759.000000</td>\n",
       "    </tr>\n",
       "    <tr>\n",
       "      <th>50%</th>\n",
       "      <td>2957.000000</td>\n",
       "    </tr>\n",
       "    <tr>\n",
       "      <th>75%</th>\n",
       "      <td>3220.000000</td>\n",
       "    </tr>\n",
       "    <tr>\n",
       "      <th>max</th>\n",
       "      <td>5517.000000</td>\n",
       "    </tr>\n",
       "  </tbody>\n",
       "</table>\n",
       "</div>"
      ],
      "text/plain": [
       "             Price\n",
       "count  3977.000000\n",
       "mean   3222.480262\n",
       "std     780.822847\n",
       "min    1957.000000\n",
       "25%    2759.000000\n",
       "50%    2957.000000\n",
       "75%    3220.000000\n",
       "max    5517.000000"
      ]
     },
     "execution_count": 471,
     "metadata": {},
     "output_type": "execute_result"
    }
   ],
   "source": [
    "df.describe()"
   ]
  },
  {
   "cell_type": "code",
   "execution_count": 436,
   "id": "f40e6da5",
   "metadata": {},
   "outputs": [
    {
     "data": {
      "text/plain": [
       "Dates    datetime64[ns]\n",
       "Price             int32\n",
       "dtype: object"
      ]
     },
     "execution_count": 436,
     "metadata": {},
     "output_type": "execute_result"
    }
   ],
   "source": [
    "df.dtypes"
   ]
  },
  {
   "cell_type": "code",
   "execution_count": 437,
   "id": "944eaa1b",
   "metadata": {},
   "outputs": [
    {
     "data": {
      "text/html": [
       "<div>\n",
       "<style scoped>\n",
       "    .dataframe tbody tr th:only-of-type {\n",
       "        vertical-align: middle;\n",
       "    }\n",
       "\n",
       "    .dataframe tbody tr th {\n",
       "        vertical-align: top;\n",
       "    }\n",
       "\n",
       "    .dataframe thead th {\n",
       "        text-align: right;\n",
       "    }\n",
       "</style>\n",
       "<table border=\"1\" class=\"dataframe\">\n",
       "  <thead>\n",
       "    <tr style=\"text-align: right;\">\n",
       "      <th></th>\n",
       "      <th>Price</th>\n",
       "    </tr>\n",
       "    <tr>\n",
       "      <th>Dates</th>\n",
       "      <th></th>\n",
       "    </tr>\n",
       "  </thead>\n",
       "  <tbody>\n",
       "    <tr>\n",
       "      <th>2011-01-01</th>\n",
       "      <td>2067</td>\n",
       "    </tr>\n",
       "    <tr>\n",
       "      <th>2011-02-01</th>\n",
       "      <td>1987</td>\n",
       "    </tr>\n",
       "    <tr>\n",
       "      <th>2011-03-01</th>\n",
       "      <td>2089</td>\n",
       "    </tr>\n",
       "    <tr>\n",
       "      <th>2011-04-01</th>\n",
       "      <td>2068</td>\n",
       "    </tr>\n",
       "    <tr>\n",
       "      <th>2011-05-01</th>\n",
       "      <td>2224</td>\n",
       "    </tr>\n",
       "    <tr>\n",
       "      <th>...</th>\n",
       "      <td>...</td>\n",
       "    </tr>\n",
       "    <tr>\n",
       "      <th>2021-08-01</th>\n",
       "      <td>4788</td>\n",
       "    </tr>\n",
       "    <tr>\n",
       "      <th>2021-09-01</th>\n",
       "      <td>4704</td>\n",
       "    </tr>\n",
       "    <tr>\n",
       "      <th>2021-10-01</th>\n",
       "      <td>4618</td>\n",
       "    </tr>\n",
       "    <tr>\n",
       "      <th>2021-11-01</th>\n",
       "      <td>4761</td>\n",
       "    </tr>\n",
       "    <tr>\n",
       "      <th>2021-12-01</th>\n",
       "      <td>4760</td>\n",
       "    </tr>\n",
       "  </tbody>\n",
       "</table>\n",
       "<p>132 rows × 1 columns</p>\n",
       "</div>"
      ],
      "text/plain": [
       "            Price\n",
       "Dates            \n",
       "2011-01-01   2067\n",
       "2011-02-01   1987\n",
       "2011-03-01   2089\n",
       "2011-04-01   2068\n",
       "2011-05-01   2224\n",
       "...           ...\n",
       "2021-08-01   4788\n",
       "2021-09-01   4704\n",
       "2021-10-01   4618\n",
       "2021-11-01   4761\n",
       "2021-12-01   4760\n",
       "\n",
       "[132 rows x 1 columns]"
      ]
     },
     "execution_count": 437,
     "metadata": {},
     "output_type": "execute_result"
    }
   ],
   "source": [
    "df_new=df.set_index('Dates').resample('MS').last()\n",
    "df_new['Price']=df_new['Price'].astype('int')\n",
    "df_new"
   ]
  },
  {
   "cell_type": "code",
   "execution_count": 539,
   "id": "f69e2ab6",
   "metadata": {},
   "outputs": [
    {
     "data": {
      "text/plain": [
       "Text(0.5, 1.0, 'Line PLot')"
      ]
     },
     "execution_count": 539,
     "metadata": {},
     "output_type": "execute_result"
    },
    {
     "data": {
      "image/png": "[encoded data removed]",
      "text/plain": [
       "<Figure size 720x360 with 1 Axes>"
      ]
     },
     "metadata": {
      "needs_background": "light"
     },
     "output_type": "display_data"
    }
   ],
   "source": [
    "\n",
    "# Line Plot\n",
    "plt.rcParams[\"figure.figsize\"] = (10, 5)\n",
    "ax = plt.axes()\n",
    "ax.set_facecolor(\"white\")\n",
    "plt.plot(df['Price'],color='Red',linestyle='solid')\n",
    "plt.xlabel(\"Date\")\n",
    "plt.ylabel(\"Price\")\n",
    "plt.title('Line PLot')\n"
   ]
  },
  {
   "cell_type": "code",
   "execution_count": 540,
   "id": "728ccb74",
   "metadata": {},
   "outputs": [
    {
     "data": {
      "image/png": "[encoded data removed]",
      "text/plain": [
       "<Figure size 576x360 with 1 Axes>"
      ]
     },
     "metadata": {
      "needs_background": "light"
     },
     "output_type": "display_data"
    }
   ],
   "source": [
    "# Histogram\n",
    "\n",
    "ax = plt.axes()\n",
    "ax.set_facecolor(\"white\")\n",
    "df['Price'].hist(figsize=(8,5), color = 'red')\n",
    "plt.title('Histogram')\n",
    "plt.show()"
   ]
  },
  {
   "cell_type": "code",
   "execution_count": 541,
   "id": "3d34cf24",
   "metadata": {},
   "outputs": [
    {
     "data": {
      "image/png": "[encoded data removed]",
      "text/plain": [
       "<Figure size 576x360 with 1 Axes>"
      ]
     },
     "metadata": {
      "needs_background": "light"
     },
     "output_type": "display_data"
    }
   ],
   "source": [
    "\n",
    "#Density Plot\n",
    "\n",
    "ax = plt.axes()\n",
    "ax.set_facecolor(\"white\")\n",
    "df['Price'].plot(kind = 'kde', figsize=(8,5), color = 'red')\n",
    "plt.show()"
   ]
  },
  {
   "cell_type": "code",
   "execution_count": 542,
   "id": "6663ba6a",
   "metadata": {},
   "outputs": [
    {
     "data": {
      "image/png": "[encoded data removed]",
      "text/plain": [
       "<Figure size 720x360 with 1 Axes>"
      ]
     },
     "metadata": {
      "needs_background": "light"
     },
     "output_type": "display_data"
    }
   ],
   "source": [
    "# Lag Plot\n",
    "\n",
    "from pandas.plotting import lag_plot\n",
    "lag_plot(df['Price'])\n",
    "plt.title('Lag Plot')\n",
    "plt.show()"
   ]
  },
  {
   "cell_type": "code",
   "execution_count": null,
   "id": "48aaea53",
   "metadata": {},
   "outputs": [],
   "source": []
  },
  {
   "cell_type": "code",
   "execution_count": null,
   "id": "db3d9b5f",
   "metadata": {},
   "outputs": [],
   "source": []
  },
  {
   "cell_type": "code",
   "execution_count": 348,
   "id": "6913fb5a",
   "metadata": {},
   "outputs": [
    {
     "data": {
      "text/html": [
       "<div>\n",
       "<style scoped>\n",
       "    .dataframe tbody tr th:only-of-type {\n",
       "        vertical-align: middle;\n",
       "    }\n",
       "\n",
       "    .dataframe tbody tr th {\n",
       "        vertical-align: top;\n",
       "    }\n",
       "\n",
       "    .dataframe thead th {\n",
       "        text-align: right;\n",
       "    }\n",
       "</style>\n",
       "<table border=\"1\" class=\"dataframe\">\n",
       "  <thead>\n",
       "    <tr style=\"text-align: right;\">\n",
       "      <th></th>\n",
       "      <th>Dates</th>\n",
       "      <th>Price</th>\n",
       "      <th>Shift_1</th>\n",
       "      <th>Shift_2</th>\n",
       "      <th>Shift_3</th>\n",
       "    </tr>\n",
       "  </thead>\n",
       "  <tbody>\n",
       "    <tr>\n",
       "      <th>0</th>\n",
       "      <td>2011-01-01</td>\n",
       "      <td>1961</td>\n",
       "      <td>NaN</td>\n",
       "      <td>NaN</td>\n",
       "      <td>NaN</td>\n",
       "    </tr>\n",
       "    <tr>\n",
       "      <th>1</th>\n",
       "      <td>2011-01-02</td>\n",
       "      <td>1961</td>\n",
       "      <td>1961.0</td>\n",
       "      <td>NaN</td>\n",
       "      <td>NaN</td>\n",
       "    </tr>\n",
       "    <tr>\n",
       "      <th>2</th>\n",
       "      <td>2011-01-03</td>\n",
       "      <td>1960</td>\n",
       "      <td>1961.0</td>\n",
       "      <td>1961.0</td>\n",
       "      <td>NaN</td>\n",
       "    </tr>\n",
       "    <tr>\n",
       "      <th>3</th>\n",
       "      <td>2011-01-04</td>\n",
       "      <td>1957</td>\n",
       "      <td>1960.0</td>\n",
       "      <td>1961.0</td>\n",
       "      <td>1961.0</td>\n",
       "    </tr>\n",
       "    <tr>\n",
       "      <th>4</th>\n",
       "      <td>2011-01-05</td>\n",
       "      <td>1991</td>\n",
       "      <td>1957.0</td>\n",
       "      <td>1960.0</td>\n",
       "      <td>1961.0</td>\n",
       "    </tr>\n",
       "  </tbody>\n",
       "</table>\n",
       "</div>"
      ],
      "text/plain": [
       "       Dates  Price  Shift_1  Shift_2  Shift_3\n",
       "0 2011-01-01   1961      NaN      NaN      NaN\n",
       "1 2011-01-02   1961   1961.0      NaN      NaN\n",
       "2 2011-01-03   1960   1961.0   1961.0      NaN\n",
       "3 2011-01-04   1957   1960.0   1961.0   1961.0\n",
       "4 2011-01-05   1991   1957.0   1960.0   1961.0"
      ]
     },
     "execution_count": 348,
     "metadata": {},
     "output_type": "execute_result"
    }
   ],
   "source": [
    "df['Shift_1']=df['Price'].shift(+1)\n",
    "df['Shift_2']=df['Price'].shift(+2)\n",
    "df['Shift_3']=df['Price'].shift(+3)\n",
    "df.head()\n"
   ]
  },
  {
   "cell_type": "code",
   "execution_count": 349,
   "id": "c13e5e23",
   "metadata": {},
   "outputs": [],
   "source": [
    "df.dropna(inplace=True,axis=0)"
   ]
  },
  {
   "cell_type": "code",
   "execution_count": 350,
   "id": "e6b5a741",
   "metadata": {},
   "outputs": [
    {
     "data": {
      "text/html": [
       "<div>\n",
       "<style scoped>\n",
       "    .dataframe tbody tr th:only-of-type {\n",
       "        vertical-align: middle;\n",
       "    }\n",
       "\n",
       "    .dataframe tbody tr th {\n",
       "        vertical-align: top;\n",
       "    }\n",
       "\n",
       "    .dataframe thead th {\n",
       "        text-align: right;\n",
       "    }\n",
       "</style>\n",
       "<table border=\"1\" class=\"dataframe\">\n",
       "  <thead>\n",
       "    <tr style=\"text-align: right;\">\n",
       "      <th></th>\n",
       "      <th>Dates</th>\n",
       "      <th>Price</th>\n",
       "      <th>Shift_1</th>\n",
       "      <th>Shift_2</th>\n",
       "      <th>Shift_3</th>\n",
       "    </tr>\n",
       "  </thead>\n",
       "  <tbody>\n",
       "    <tr>\n",
       "      <th>3</th>\n",
       "      <td>2011-01-04</td>\n",
       "      <td>1957</td>\n",
       "      <td>1960.0</td>\n",
       "      <td>1961.0</td>\n",
       "      <td>1961.0</td>\n",
       "    </tr>\n",
       "    <tr>\n",
       "      <th>4</th>\n",
       "      <td>2011-01-05</td>\n",
       "      <td>1991</td>\n",
       "      <td>1957.0</td>\n",
       "      <td>1960.0</td>\n",
       "      <td>1961.0</td>\n",
       "    </tr>\n",
       "    <tr>\n",
       "      <th>5</th>\n",
       "      <td>2011-01-06</td>\n",
       "      <td>1977</td>\n",
       "      <td>1991.0</td>\n",
       "      <td>1957.0</td>\n",
       "      <td>1960.0</td>\n",
       "    </tr>\n",
       "    <tr>\n",
       "      <th>6</th>\n",
       "      <td>2011-01-07</td>\n",
       "      <td>1979</td>\n",
       "      <td>1977.0</td>\n",
       "      <td>1991.0</td>\n",
       "      <td>1957.0</td>\n",
       "    </tr>\n",
       "    <tr>\n",
       "      <th>7</th>\n",
       "      <td>2011-01-08</td>\n",
       "      <td>2006</td>\n",
       "      <td>1979.0</td>\n",
       "      <td>1977.0</td>\n",
       "      <td>1991.0</td>\n",
       "    </tr>\n",
       "    <tr>\n",
       "      <th>...</th>\n",
       "      <td>...</td>\n",
       "      <td>...</td>\n",
       "      <td>...</td>\n",
       "      <td>...</td>\n",
       "      <td>...</td>\n",
       "    </tr>\n",
       "    <tr>\n",
       "      <th>3972</th>\n",
       "      <td>2021-12-27</td>\n",
       "      <td>4703</td>\n",
       "      <td>4787.0</td>\n",
       "      <td>4782.0</td>\n",
       "      <td>4801.0</td>\n",
       "    </tr>\n",
       "    <tr>\n",
       "      <th>3973</th>\n",
       "      <td>2021-12-28</td>\n",
       "      <td>4703</td>\n",
       "      <td>4703.0</td>\n",
       "      <td>4787.0</td>\n",
       "      <td>4782.0</td>\n",
       "    </tr>\n",
       "    <tr>\n",
       "      <th>3974</th>\n",
       "      <td>2021-12-29</td>\n",
       "      <td>4703</td>\n",
       "      <td>4703.0</td>\n",
       "      <td>4703.0</td>\n",
       "      <td>4787.0</td>\n",
       "    </tr>\n",
       "    <tr>\n",
       "      <th>3975</th>\n",
       "      <td>2021-12-30</td>\n",
       "      <td>4758</td>\n",
       "      <td>4703.0</td>\n",
       "      <td>4703.0</td>\n",
       "      <td>4703.0</td>\n",
       "    </tr>\n",
       "    <tr>\n",
       "      <th>3976</th>\n",
       "      <td>2021-12-31</td>\n",
       "      <td>4760</td>\n",
       "      <td>4758.0</td>\n",
       "      <td>4703.0</td>\n",
       "      <td>4703.0</td>\n",
       "    </tr>\n",
       "  </tbody>\n",
       "</table>\n",
       "<p>3974 rows × 5 columns</p>\n",
       "</div>"
      ],
      "text/plain": [
       "          Dates  Price  Shift_1  Shift_2  Shift_3\n",
       "3    2011-01-04   1957   1960.0   1961.0   1961.0\n",
       "4    2011-01-05   1991   1957.0   1960.0   1961.0\n",
       "5    2011-01-06   1977   1991.0   1957.0   1960.0\n",
       "6    2011-01-07   1979   1977.0   1991.0   1957.0\n",
       "7    2011-01-08   2006   1979.0   1977.0   1991.0\n",
       "...         ...    ...      ...      ...      ...\n",
       "3972 2021-12-27   4703   4787.0   4782.0   4801.0\n",
       "3973 2021-12-28   4703   4703.0   4787.0   4782.0\n",
       "3974 2021-12-29   4703   4703.0   4703.0   4787.0\n",
       "3975 2021-12-30   4758   4703.0   4703.0   4703.0\n",
       "3976 2021-12-31   4760   4758.0   4703.0   4703.0\n",
       "\n",
       "[3974 rows x 5 columns]"
      ]
     },
     "execution_count": 350,
     "metadata": {},
     "output_type": "execute_result"
    }
   ],
   "source": [
    "df"
   ]
  },
  {
   "cell_type": "code",
   "execution_count": 351,
   "id": "ec6554ba",
   "metadata": {},
   "outputs": [
    {
     "data": {
      "text/plain": [
       "3       1961.0\n",
       "4       1961.0\n",
       "5       1960.0\n",
       "6       1957.0\n",
       "7       1991.0\n",
       "         ...  \n",
       "3972    4801.0\n",
       "3973    4782.0\n",
       "3974    4787.0\n",
       "3975    4703.0\n",
       "3976    4703.0\n",
       "Name: Shift_3, Length: 3974, dtype: float64"
      ]
     },
     "execution_count": 351,
     "metadata": {},
     "output_type": "execute_result"
    }
   ],
   "source": [
    "import numpy as np\n",
    "x1,x2,x3,y=df['Shift_1'],df['Shift_2'],df['Shift_3'],df['Price']\n",
    "x3"
   ]
  },
  {
   "cell_type": "code",
   "execution_count": 352,
   "id": "37b81649",
   "metadata": {},
   "outputs": [
    {
     "name": "stdout",
     "output_type": "stream",
     "text": [
      "[1960. 1957. 1991. ... 4703. 4703. 4758.]\n"
     ]
    }
   ],
   "source": [
    "\n",
    "# Converting into numpy pi array\n",
    "\n",
    "x1,x2,x3,y=np.array(x1),np.array(x2),np.array(x3),np.array(y)\n",
    "print(x1)"
   ]
  },
  {
   "cell_type": "code",
   "execution_count": 353,
   "id": "899779f6",
   "metadata": {},
   "outputs": [
    {
     "data": {
      "text/plain": [
       "array([[1960.],\n",
       "       [1957.],\n",
       "       [1991.],\n",
       "       ...,\n",
       "       [4703.],\n",
       "       [4703.],\n",
       "       [4758.]])"
      ]
     },
     "execution_count": 353,
     "metadata": {},
     "output_type": "execute_result"
    }
   ],
   "source": [
    "\n",
    "# reshaping the values\n",
    "x1,x2,x3,y=x1.reshape(-1,1),x2.reshape(-1,1),x3.reshape(-1,1),y.reshape(-1,1)\n",
    "x1"
   ]
  },
  {
   "cell_type": "code",
   "execution_count": 354,
   "id": "a3eb342b",
   "metadata": {},
   "outputs": [
    {
     "name": "stdout",
     "output_type": "stream",
     "text": [
      "[[1960. 1961. 1961.]\n",
      " [1957. 1960. 1961.]\n",
      " [1991. 1957. 1960.]\n",
      " ...\n",
      " [4703. 4703. 4787.]\n",
      " [4703. 4703. 4703.]\n",
      " [4758. 4703. 4703.]]\n"
     ]
    },
    {
     "data": {
      "text/plain": [
       "(3974, 3)"
      ]
     },
     "execution_count": 354,
     "metadata": {},
     "output_type": "execute_result"
    }
   ],
   "source": [
    "\n",
    "# Combining the 3 columns and making it into 1 columns.\n",
    "\n",
    "final_values=np.concatenate((x1,x2,x3),axis=1)\n",
    "print(final_values)\n",
    "final_values.shape\n"
   ]
  },
  {
   "cell_type": "code",
   "execution_count": 355,
   "id": "429f267a",
   "metadata": {},
   "outputs": [
    {
     "data": {
      "text/plain": [
       "((3944, 3), (30, 3), (3944, 1), (30, 1))"
      ]
     },
     "execution_count": 355,
     "metadata": {},
     "output_type": "execute_result"
    }
   ],
   "source": [
    "X_train,X_test,y_train,y_test=final_x[:-30],final_x[-30:],y[:-30],y[-30:]\n",
    "X_train.shape,X_test.shape,y_train.shape,y_test.shape"
   ]
  },
  {
   "cell_type": "code",
   "execution_count": 368,
   "id": "bb0cdfbe",
   "metadata": {},
   "outputs": [
    {
     "data": {
      "text/plain": [
       "(30, 1)"
      ]
     },
     "execution_count": 368,
     "metadata": {},
     "output_type": "execute_result"
    }
   ],
   "source": [
    "y_test.shape"
   ]
  },
  {
   "cell_type": "code",
   "execution_count": 357,
   "id": "5913a6d0",
   "metadata": {},
   "outputs": [],
   "source": [
    "from sklearn.linear_model import LinearRegression\n",
    "from sklearn.tree import DecisionTreeRegressor\n",
    "from sklearn.ensemble import RandomForestRegressor,GradientBoostingRegressor,AdaBoostRegressor\n",
    "from xgboost import XGBRegressor\n",
    "from sklearn.metrics import mean_squared_error,accuracy_score,r2_score\n",
    "from math import sqrt"
   ]
  },
  {
   "cell_type": "code",
   "execution_count": 358,
   "id": "2cc4b542",
   "metadata": {},
   "outputs": [],
   "source": [
    "\n",
    "\n",
    "lin_model=LinearRegression()\n",
    "lin_model.fit(X_train,y_train)\n",
    "lin_pred=lin_model.predict(X_test)\n",
    "r2_score2_lr=(r2_score(lin_pred,y_test))\n",
    "mse_lr=(mean_squared_error(lin_pred,y_test))\n",
    "rmse_lr=sqrt(mean_squared_error(lin_pred,y_test))\n",
    "\n",
    "dtree_model=DecisionTreeRegressor(max_depth=5)\n",
    "dtree_model.fit(X_train,y_train)\n",
    "dtree_pred=dtree_model.predict(X_test)\n",
    "r2_score_dt=(r2_score(dtree_pred,y_test))\n",
    "mse_dt=(mean_squared_error(dtree_pred,y_test))\n",
    "rmse_dt=sqrt(mean_squared_error(dtree_pred,y_test))\n",
    "\n",
    "\n",
    "\n",
    "random_model=RandomForestRegressor(n_estimators=100,max_features=3, random_state=1)\n",
    "random_model.fit(X_train,y_train)\n",
    "random_pred=random_model.predict(X_test)\n",
    "r2_score_rf=(r2_score(random_pred,y_test))\n",
    "rmse_rf=sqrt(mean_squared_error(random_pred,y_test))\n",
    "mse_rf=(mean_squared_error(random_pred,y_test))\n",
    "\n",
    "\n",
    "gradient_model=GradientBoostingRegressor(n_estimators=100,max_features=3, random_state=100)\n",
    "gradient_model.fit(X_train,y_train)\n",
    "gradient_pred=gradient_model.predict(X_test)\n",
    "rmse_gb=sqrt(mean_squared_error(gradient_pred,y_test))\n",
    "r2_score_gb=(r2_score(gradient_pred,y_test))\n",
    "mse_gb=(mean_squared_error(gradient_pred,y_test))\n",
    "\n",
    "\n",
    "ada_model=AdaBoostRegressor(n_estimators=100, random_state=100)\n",
    "ada_model.fit(X_train,y_train)\n",
    "ada_pred=ada_model.predict(X_test)\n",
    "rmse_ab=sqrt(mean_squared_error(ada_pred,y_test))\n",
    "r2_score_ab=(r2_score(ada_pred,y_test))\n",
    "mse_ab=(mean_squared_error(ada_pred,y_test))\n",
    "\n",
    "\n",
    "\n",
    "#xgb_model=XGBRegressor(n_estimators=100,max_features=3, random_state=100)\n",
    "#xgb_model.fit(X_train,y_train)\n",
    "\n"
   ]
  },
  {
   "cell_type": "code",
   "execution_count": 359,
   "id": "f5a7ff12",
   "metadata": {},
   "outputs": [
    {
     "data": {
      "text/html": [
       "<div>\n",
       "<style scoped>\n",
       "    .dataframe tbody tr th:only-of-type {\n",
       "        vertical-align: middle;\n",
       "    }\n",
       "\n",
       "    .dataframe tbody tr th {\n",
       "        vertical-align: top;\n",
       "    }\n",
       "\n",
       "    .dataframe thead th {\n",
       "        text-align: right;\n",
       "    }\n",
       "</style>\n",
       "<table border=\"1\" class=\"dataframe\">\n",
       "  <thead>\n",
       "    <tr style=\"text-align: right;\">\n",
       "      <th></th>\n",
       "      <th>r2_score</th>\n",
       "      <th>MSE</th>\n",
       "      <th>RMSE</th>\n",
       "    </tr>\n",
       "  </thead>\n",
       "  <tbody>\n",
       "    <tr>\n",
       "      <th>Linear</th>\n",
       "      <td>0.566691</td>\n",
       "      <td>645.387744</td>\n",
       "      <td>25.404483</td>\n",
       "    </tr>\n",
       "    <tr>\n",
       "      <th>Decision</th>\n",
       "      <td>-0.185452</td>\n",
       "      <td>3391.407350</td>\n",
       "      <td>58.235791</td>\n",
       "    </tr>\n",
       "    <tr>\n",
       "      <th>Random</th>\n",
       "      <td>0.541988</td>\n",
       "      <td>1081.012692</td>\n",
       "      <td>32.878757</td>\n",
       "    </tr>\n",
       "    <tr>\n",
       "      <th>Gradient</th>\n",
       "      <td>0.483275</td>\n",
       "      <td>1052.464146</td>\n",
       "      <td>32.441704</td>\n",
       "    </tr>\n",
       "    <tr>\n",
       "      <th>adaboost</th>\n",
       "      <td>-421.073151</td>\n",
       "      <td>2214.888890</td>\n",
       "      <td>47.062606</td>\n",
       "    </tr>\n",
       "  </tbody>\n",
       "</table>\n",
       "</div>"
      ],
      "text/plain": [
       "            r2_score          MSE       RMSE\n",
       "Linear      0.566691   645.387744  25.404483\n",
       "Decision   -0.185452  3391.407350  58.235791\n",
       "Random      0.541988  1081.012692  32.878757\n",
       "Gradient    0.483275  1052.464146  32.441704\n",
       "adaboost -421.073151  2214.888890  47.062606"
      ]
     },
     "execution_count": 359,
     "metadata": {},
     "output_type": "execute_result"
    }
   ],
   "source": [
    "\n",
    "dict= {'r2_score':[r2_score2_lr,r2_score_dt,r2_score_rf,r2_score_gb,r2_score_ab],\n",
    "       'MSE':[mse_lr,mse_dt,mse_rf,mse_gb,mse_ab],\n",
    "       'RMSE':[rmse_lr,rmse_dt,rmse_rf,rmse_gb,rmse_ab] } \n",
    "\n",
    "df_score=pd.DataFrame(dict,index=['Linear','Decision','Random','Gradient','adaboost'])    \n",
    "df_score"
   ]
  },
  {
   "cell_type": "code",
   "execution_count": 365,
   "id": "1333feff",
   "metadata": {},
   "outputs": [
    {
     "data": {
      "text/html": [
       "<div>\n",
       "<style scoped>\n",
       "    .dataframe tbody tr th:only-of-type {\n",
       "        vertical-align: middle;\n",
       "    }\n",
       "\n",
       "    .dataframe tbody tr th {\n",
       "        vertical-align: top;\n",
       "    }\n",
       "\n",
       "    .dataframe thead th {\n",
       "        text-align: right;\n",
       "    }\n",
       "</style>\n",
       "<table border=\"1\" class=\"dataframe\">\n",
       "  <thead>\n",
       "    <tr style=\"text-align: right;\">\n",
       "      <th></th>\n",
       "      <th>Actual</th>\n",
       "      <th>Predicted</th>\n",
       "    </tr>\n",
       "  </thead>\n",
       "  <tbody>\n",
       "    <tr>\n",
       "      <th>0</th>\n",
       "      <td>4763</td>\n",
       "      <td>4779.000435</td>\n",
       "    </tr>\n",
       "    <tr>\n",
       "      <th>1</th>\n",
       "      <td>4763</td>\n",
       "      <td>4762.261900</td>\n",
       "    </tr>\n",
       "    <tr>\n",
       "      <th>2</th>\n",
       "      <td>4807</td>\n",
       "      <td>4761.912829</td>\n",
       "    </tr>\n",
       "    <tr>\n",
       "      <th>3</th>\n",
       "      <td>4806</td>\n",
       "      <td>4802.392872</td>\n",
       "    </tr>\n",
       "    <tr>\n",
       "      <th>4</th>\n",
       "      <td>4811</td>\n",
       "      <td>4803.423665</td>\n",
       "    </tr>\n",
       "  </tbody>\n",
       "</table>\n",
       "</div>"
      ],
      "text/plain": [
       "   Actual    Predicted\n",
       "0    4763  4779.000435\n",
       "1    4763  4762.261900\n",
       "2    4807  4761.912829\n",
       "3    4806  4802.392872\n",
       "4    4811  4803.423665"
      ]
     },
     "execution_count": 365,
     "metadata": {},
     "output_type": "execute_result"
    }
   ],
   "source": [
    "lin_pred=lin_model.predict(X_test)\n",
    "result=pd.DataFrame({'Actual':y_test.flatten(), 'Predicted':lin_pred.flatten()})\n",
    "result.head()"
   ]
  },
  {
   "cell_type": "code",
   "execution_count": 260,
   "id": "7475a4df",
   "metadata": {},
   "outputs": [
    {
     "data": {
      "image/png": "[encoded data removed]",
      "text/plain": [
       "<Figure size 1440x864 with 5 Axes>"
      ]
     },
     "metadata": {
      "needs_background": "light"
     },
     "output_type": "display_data"
    }
   ],
   "source": [
    "\n",
    "import matplotlib.pyplot as plt\n",
    "plt.rcParams[\"figure.figsize\"] = (20,12)\n",
    "plt.title('Forecasting')\n",
    "\n",
    "plt.subplot(2, 3, 1)\n",
    "plt.plot(lin_pred,label='Regression')\n",
    "plt.plot(y_test,label='Actual Price')\n",
    "plt.legend(loc=\"upper left\")\n",
    "\n",
    "plt.subplot(2, 3, 2)\n",
    "plt.plot(dtree_pred,label='Decision')\n",
    "plt.plot(y_test,label='Actual Price')\n",
    "plt.legend(loc=\"upper left\")\n",
    "\n",
    "plt.subplot(2, 3, 3)\n",
    "plt.plot(random_pred,label='Randomforest')\n",
    "plt.plot(y_test,label='Actual Price')\n",
    "plt.legend(loc=\"upper left\")\n",
    "\n",
    "plt.subplot(2, 3, 4)\n",
    "plt.plot(gradient_pred,label='gradient')\n",
    "plt.plot(y_test,label='Actual Price')\n",
    "plt.legend(loc=\"upper left\")\n",
    "\n",
    "plt.subplot(2, 3, 5)\n",
    "plt.plot(gradient_pred,label='adboost')\n",
    "plt.plot(y_test,label='Actual Price')\n",
    "plt.legend(loc=\"upper left\")\n",
    "\n",
    "\n",
    "\n",
    "plt.show()"
   ]
  },
  {
   "cell_type": "markdown",
   "id": "b83f38c7",
   "metadata": {},
   "source": [
    "# THE END "
   ]
  }
 ],
 "metadata": {
  "kernelspec": {
   "display_name": "Python 3 (ipykernel)",
   "language": "python",
   "name": "python3"
  },
  "language_info": {
   "codemirror_mode": {
    "name": "ipython",
    "version": 3
   },
   "file_extension": ".py",
   "mimetype": "text/x-python",
   "name": "python",
   "nbconvert_exporter": "python",
   "pygments_lexer": "ipython3",
   "version": "3.9.7"
  }
 },
 "nbformat": 4,
 "nbformat_minor": 5
}
