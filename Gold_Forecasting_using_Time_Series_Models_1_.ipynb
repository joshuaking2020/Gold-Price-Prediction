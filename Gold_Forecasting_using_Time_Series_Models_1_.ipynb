{
  "cells": [
    {
      "cell_type": "markdown",
      "id": "24e2a1c4",
      "metadata": {
        "id": "24e2a1c4"
      },
      "source": [
        "## Import Library"
      ]
    },
    {
      "cell_type": "code",
      "source": [
        "pip install pmdarima"
      ],
      "metadata": {
        "colab": {
          "base_uri": "https://localhost:8080/"
        },
        "id": "WNYoKUCgLDzq",
        "outputId": "de291f8e-1ac5-43ec-eafc-a36702bf3ebe"
      },
      "id": "WNYoKUCgLDzq",
      "execution_count": null,
      "outputs": [
        {
          "output_type": "stream",
          "name": "stdout",
          "text": [
            "Collecting pmdarima\n",
            "  Downloading pmdarima-1.8.5-cp37-cp37m-manylinux_2_17_x86_64.manylinux2014_x86_64.manylinux_2_24_x86_64.whl (1.4 MB)\n",
            "\u001b[K     |████████████████████████████████| 1.4 MB 5.1 MB/s \n",
            "\u001b[?25hRequirement already satisfied: numpy>=1.19.3 in /usr/local/lib/python3.7/dist-packages (from pmdarima) (1.21.5)\n",
            "Requirement already satisfied: scipy>=1.3.2 in /usr/local/lib/python3.7/dist-packages (from pmdarima) (1.4.1)\n",
            "Requirement already satisfied: setuptools!=50.0.0,>=38.6.0 in /usr/local/lib/python3.7/dist-packages (from pmdarima) (57.4.0)\n",
            "Requirement already satisfied: joblib>=0.11 in /usr/local/lib/python3.7/dist-packages (from pmdarima) (1.1.0)\n",
            "Collecting statsmodels!=0.12.0,>=0.11\n",
            "  Downloading statsmodels-0.13.2-cp37-cp37m-manylinux_2_17_x86_64.manylinux2014_x86_64.whl (9.8 MB)\n",
            "\u001b[K     |████████████████████████████████| 9.8 MB 28.0 MB/s \n",
            "\u001b[?25hRequirement already satisfied: pandas>=0.19 in /usr/local/lib/python3.7/dist-packages (from pmdarima) (1.3.5)\n",
            "Requirement already satisfied: scikit-learn>=0.22 in /usr/local/lib/python3.7/dist-packages (from pmdarima) (1.0.2)\n",
            "Requirement already satisfied: urllib3 in /usr/local/lib/python3.7/dist-packages (from pmdarima) (1.24.3)\n",
            "Requirement already satisfied: Cython!=0.29.18,>=0.29 in /usr/local/lib/python3.7/dist-packages (from pmdarima) (0.29.28)\n",
            "Requirement already satisfied: pytz>=2017.3 in /usr/local/lib/python3.7/dist-packages (from pandas>=0.19->pmdarima) (2018.9)\n",
            "Requirement already satisfied: python-dateutil>=2.7.3 in /usr/local/lib/python3.7/dist-packages (from pandas>=0.19->pmdarima) (2.8.2)\n",
            "Requirement already satisfied: six>=1.5 in /usr/local/lib/python3.7/dist-packages (from python-dateutil>=2.7.3->pandas>=0.19->pmdarima) (1.15.0)\n",
            "Requirement already satisfied: threadpoolctl>=2.0.0 in /usr/local/lib/python3.7/dist-packages (from scikit-learn>=0.22->pmdarima) (3.1.0)\n",
            "Requirement already satisfied: packaging>=21.3 in /usr/local/lib/python3.7/dist-packages (from statsmodels!=0.12.0,>=0.11->pmdarima) (21.3)\n",
            "Requirement already satisfied: patsy>=0.5.2 in /usr/local/lib/python3.7/dist-packages (from statsmodels!=0.12.0,>=0.11->pmdarima) (0.5.2)\n",
            "Requirement already satisfied: pyparsing!=3.0.5,>=2.0.2 in /usr/local/lib/python3.7/dist-packages (from packaging>=21.3->statsmodels!=0.12.0,>=0.11->pmdarima) (3.0.7)\n",
            "Installing collected packages: statsmodels, pmdarima\n",
            "  Attempting uninstall: statsmodels\n",
            "    Found existing installation: statsmodels 0.10.2\n",
            "    Uninstalling statsmodels-0.10.2:\n",
            "      Successfully uninstalled statsmodels-0.10.2\n",
            "Successfully installed pmdarima-1.8.5 statsmodels-0.13.2\n"
          ]
        }
      ]
    },
    {
      "cell_type": "code",
      "execution_count": null,
      "id": "a26e6825",
      "metadata": {
        "id": "a26e6825"
      },
      "outputs": [],
      "source": [
        "import pandas as pd \n",
        "import numpy as np \n",
        "import matplotlib.pyplot as plt \n",
        "import seaborn as sns\n",
        "%matplotlib inline\n",
        "from statsmodels.tsa.stattools import adfuller\n",
        "from statsmodels.graphics.tsaplots import plot_pacf,plot_acf\n",
        "from statsmodels.tsa.arima_model import ARIMA\n",
        "\n",
        "from pmdarima import auto_arima\n",
        "\n",
        "import statsmodels.api as sm\n",
        "from statsmodels.tsa.arima_model import ARMA\n",
        "from sklearn.metrics import r2_score\n"
      ]
    },
    {
      "cell_type": "code",
      "execution_count": null,
      "id": "cd592dda",
      "metadata": {
        "colab": {
          "base_uri": "https://localhost:8080/",
          "height": 206
        },
        "id": "cd592dda",
        "outputId": "46bcaf1b-47fe-4ece-f168-11720f5a94eb"
      },
      "outputs": [
        {
          "output_type": "execute_result",
          "data": {
            "text/plain": [
              "   Unnamed: 0       Dates  Price\n",
              "0           0  01-01-2011  1,961\n",
              "1           1  02-01-2011  1,961\n",
              "2           2  03-01-2011  1,960\n",
              "3           3  04-01-2011  1,957\n",
              "4           4  05-01-2011  1,991"
            ],
            "text/html": [
              "\n",
              "  <div id=\"df-3b29e548-47f0-405f-8567-e75cb08a7c69\">\n",
              "    <div class=\"colab-df-container\">\n",
              "      <div>\n",
              "<style scoped>\n",
              "    .dataframe tbody tr th:only-of-type {\n",
              "        vertical-align: middle;\n",
              "    }\n",
              "\n",
              "    .dataframe tbody tr th {\n",
              "        vertical-align: top;\n",
              "    }\n",
              "\n",
              "    .dataframe thead th {\n",
              "        text-align: right;\n",
              "    }\n",
              "</style>\n",
              "<table border=\"1\" class=\"dataframe\">\n",
              "  <thead>\n",
              "    <tr style=\"text-align: right;\">\n",
              "      <th></th>\n",
              "      <th>Unnamed: 0</th>\n",
              "      <th>Dates</th>\n",
              "      <th>Price</th>\n",
              "    </tr>\n",
              "  </thead>\n",
              "  <tbody>\n",
              "    <tr>\n",
              "      <th>0</th>\n",
              "      <td>0</td>\n",
              "      <td>01-01-2011</td>\n",
              "      <td>1,961</td>\n",
              "    </tr>\n",
              "    <tr>\n",
              "      <th>1</th>\n",
              "      <td>1</td>\n",
              "      <td>02-01-2011</td>\n",
              "      <td>1,961</td>\n",
              "    </tr>\n",
              "    <tr>\n",
              "      <th>2</th>\n",
              "      <td>2</td>\n",
              "      <td>03-01-2011</td>\n",
              "      <td>1,960</td>\n",
              "    </tr>\n",
              "    <tr>\n",
              "      <th>3</th>\n",
              "      <td>3</td>\n",
              "      <td>04-01-2011</td>\n",
              "      <td>1,957</td>\n",
              "    </tr>\n",
              "    <tr>\n",
              "      <th>4</th>\n",
              "      <td>4</td>\n",
              "      <td>05-01-2011</td>\n",
              "      <td>1,991</td>\n",
              "    </tr>\n",
              "  </tbody>\n",
              "</table>\n",
              "</div>\n",
              "      <button class=\"colab-df-convert\" onclick=\"convertToInteractive('df-3b29e548-47f0-405f-8567-e75cb08a7c69')\"\n",
              "              title=\"Convert this dataframe to an interactive table.\"\n",
              "              style=\"display:none;\">\n",
              "        \n",
              "  <svg xmlns=\"http://www.w3.org/2000/svg\" height=\"24px\"viewBox=\"0 0 24 24\"\n",
              "       width=\"24px\">\n",
              "    <path d=\"M0 0h24v24H0V0z\" fill=\"none\"/>\n",
              "    <path d=\"M18.56 5.44l.94 2.06.94-2.06 2.06-.94-2.06-.94-.94-2.06-.94 2.06-2.06.94zm-11 1L8.5 8.5l.94-2.06 2.06-.94-2.06-.94L8.5 2.5l-.94 2.06-2.06.94zm10 10l.94 2.06.94-2.06 2.06-.94-2.06-.94-.94-2.06-.94 2.06-2.06.94z\"/><path d=\"M17.41 7.96l-1.37-1.37c-.4-.4-.92-.59-1.43-.59-.52 0-1.04.2-1.43.59L10.3 9.45l-7.72 7.72c-.78.78-.78 2.05 0 2.83L4 21.41c.39.39.9.59 1.41.59.51 0 1.02-.2 1.41-.59l7.78-7.78 2.81-2.81c.8-.78.8-2.07 0-2.86zM5.41 20L4 18.59l7.72-7.72 1.47 1.35L5.41 20z\"/>\n",
              "  </svg>\n",
              "      </button>\n",
              "      \n",
              "  <style>\n",
              "    .colab-df-container {\n",
              "      display:flex;\n",
              "      flex-wrap:wrap;\n",
              "      gap: 12px;\n",
              "    }\n",
              "\n",
              "    .colab-df-convert {\n",
              "      background-color: #E8F0FE;\n",
              "      border: none;\n",
              "      border-radius: 50%;\n",
              "      cursor: pointer;\n",
              "      display: none;\n",
              "      fill: #1967D2;\n",
              "      height: 32px;\n",
              "      padding: 0 0 0 0;\n",
              "      width: 32px;\n",
              "    }\n",
              "\n",
              "    .colab-df-convert:hover {\n",
              "      background-color: #E2EBFA;\n",
              "      box-shadow: 0px 1px 2px rgba(60, 64, 67, 0.3), 0px 1px 3px 1px rgba(60, 64, 67, 0.15);\n",
              "      fill: #174EA6;\n",
              "    }\n",
              "\n",
              "    [theme=dark] .colab-df-convert {\n",
              "      background-color: #3B4455;\n",
              "      fill: #D2E3FC;\n",
              "    }\n",
              "\n",
              "    [theme=dark] .colab-df-convert:hover {\n",
              "      background-color: #434B5C;\n",
              "      box-shadow: 0px 1px 3px 1px rgba(0, 0, 0, 0.15);\n",
              "      filter: drop-shadow(0px 1px 2px rgba(0, 0, 0, 0.3));\n",
              "      fill: #FFFFFF;\n",
              "    }\n",
              "  </style>\n",
              "\n",
              "      <script>\n",
              "        const buttonEl =\n",
              "          document.querySelector('#df-3b29e548-47f0-405f-8567-e75cb08a7c69 button.colab-df-convert');\n",
              "        buttonEl.style.display =\n",
              "          google.colab.kernel.accessAllowed ? 'block' : 'none';\n",
              "\n",
              "        async function convertToInteractive(key) {\n",
              "          const element = document.querySelector('#df-3b29e548-47f0-405f-8567-e75cb08a7c69');\n",
              "          const dataTable =\n",
              "            await google.colab.kernel.invokeFunction('convertToInteractive',\n",
              "                                                     [key], {});\n",
              "          if (!dataTable) return;\n",
              "\n",
              "          const docLinkHtml = 'Like what you see? Visit the ' +\n",
              "            '<a target=\"_blank\" href=https://colab.research.google.com/notebooks/data_table.ipynb>data table notebook</a>'\n",
              "            + ' to learn more about interactive tables.';\n",
              "          element.innerHTML = '';\n",
              "          dataTable['output_type'] = 'display_data';\n",
              "          await google.colab.output.renderOutput(dataTable, element);\n",
              "          const docLink = document.createElement('div');\n",
              "          docLink.innerHTML = docLinkHtml;\n",
              "          element.appendChild(docLink);\n",
              "        }\n",
              "      </script>\n",
              "    </div>\n",
              "  </div>\n",
              "  "
            ]
          },
          "metadata": {},
          "execution_count": 3
        }
      ],
      "source": [
        "# Index_Col - Make date as index\n",
        "# Parse_dates[0] - Date in format yyyy-mm-dd\n",
        "# Squeeze = True (Convert data from dataframe into series.)\n",
        "\n",
        "df=pd.read_csv(\"/content/gold_list.csv\")\n",
        "df.head()"
      ]
    },
    {
      "cell_type": "markdown",
      "id": "43b6dc7d",
      "metadata": {
        "id": "43b6dc7d"
      },
      "source": [
        "## EDA"
      ]
    },
    {
      "cell_type": "code",
      "execution_count": null,
      "id": "a4b5ac8b",
      "metadata": {
        "id": "a4b5ac8b"
      },
      "outputs": [],
      "source": [
        "del df['Unnamed: 0']"
      ]
    },
    {
      "cell_type": "code",
      "execution_count": null,
      "metadata": {
        "id": "8556202a"
      },
      "outputs": [],
      "source": [
        "df['Dates']=pd.to_datetime(df['Dates'], dayfirst = True)"
      ],
      "id": "8556202a"
    },
    {
      "cell_type": "code",
      "execution_count": null,
      "metadata": {
        "id": "9b808356",
        "colab": {
          "base_uri": "https://localhost:8080/",
          "height": 423
        },
        "outputId": "cd8f8e49-9b9f-41fb-f19f-398f9d508611"
      },
      "outputs": [
        {
          "output_type": "execute_result",
          "data": {
            "text/plain": [
              "          Dates Price\n",
              "0    2011-01-01  1961\n",
              "1    2011-01-02  1961\n",
              "2    2011-01-03  1960\n",
              "3    2011-01-04  1957\n",
              "4    2011-01-05  1991\n",
              "...         ...   ...\n",
              "3972 2021-12-27  4703\n",
              "3973 2021-12-28  4703\n",
              "3974 2021-12-29  4703\n",
              "3975 2021-12-30  4758\n",
              "3976 2021-12-31  4760\n",
              "\n",
              "[3977 rows x 2 columns]"
            ],
            "text/html": [
              "\n",
              "  <div id=\"df-f258d620-1230-41b9-80f0-c163c8cd15bc\">\n",
              "    <div class=\"colab-df-container\">\n",
              "      <div>\n",
              "<style scoped>\n",
              "    .dataframe tbody tr th:only-of-type {\n",
              "        vertical-align: middle;\n",
              "    }\n",
              "\n",
              "    .dataframe tbody tr th {\n",
              "        vertical-align: top;\n",
              "    }\n",
              "\n",
              "    .dataframe thead th {\n",
              "        text-align: right;\n",
              "    }\n",
              "</style>\n",
              "<table border=\"1\" class=\"dataframe\">\n",
              "  <thead>\n",
              "    <tr style=\"text-align: right;\">\n",
              "      <th></th>\n",
              "      <th>Dates</th>\n",
              "      <th>Price</th>\n",
              "    </tr>\n",
              "  </thead>\n",
              "  <tbody>\n",
              "    <tr>\n",
              "      <th>0</th>\n",
              "      <td>2011-01-01</td>\n",
              "      <td>1961</td>\n",
              "    </tr>\n",
              "    <tr>\n",
              "      <th>1</th>\n",
              "      <td>2011-01-02</td>\n",
              "      <td>1961</td>\n",
              "    </tr>\n",
              "    <tr>\n",
              "      <th>2</th>\n",
              "      <td>2011-01-03</td>\n",
              "      <td>1960</td>\n",
              "    </tr>\n",
              "    <tr>\n",
              "      <th>3</th>\n",
              "      <td>2011-01-04</td>\n",
              "      <td>1957</td>\n",
              "    </tr>\n",
              "    <tr>\n",
              "      <th>4</th>\n",
              "      <td>2011-01-05</td>\n",
              "      <td>1991</td>\n",
              "    </tr>\n",
              "    <tr>\n",
              "      <th>...</th>\n",
              "      <td>...</td>\n",
              "      <td>...</td>\n",
              "    </tr>\n",
              "    <tr>\n",
              "      <th>3972</th>\n",
              "      <td>2021-12-27</td>\n",
              "      <td>4703</td>\n",
              "    </tr>\n",
              "    <tr>\n",
              "      <th>3973</th>\n",
              "      <td>2021-12-28</td>\n",
              "      <td>4703</td>\n",
              "    </tr>\n",
              "    <tr>\n",
              "      <th>3974</th>\n",
              "      <td>2021-12-29</td>\n",
              "      <td>4703</td>\n",
              "    </tr>\n",
              "    <tr>\n",
              "      <th>3975</th>\n",
              "      <td>2021-12-30</td>\n",
              "      <td>4758</td>\n",
              "    </tr>\n",
              "    <tr>\n",
              "      <th>3976</th>\n",
              "      <td>2021-12-31</td>\n",
              "      <td>4760</td>\n",
              "    </tr>\n",
              "  </tbody>\n",
              "</table>\n",
              "<p>3977 rows × 2 columns</p>\n",
              "</div>\n",
              "      <button class=\"colab-df-convert\" onclick=\"convertToInteractive('df-f258d620-1230-41b9-80f0-c163c8cd15bc')\"\n",
              "              title=\"Convert this dataframe to an interactive table.\"\n",
              "              style=\"display:none;\">\n",
              "        \n",
              "  <svg xmlns=\"http://www.w3.org/2000/svg\" height=\"24px\"viewBox=\"0 0 24 24\"\n",
              "       width=\"24px\">\n",
              "    <path d=\"M0 0h24v24H0V0z\" fill=\"none\"/>\n",
              "    <path d=\"M18.56 5.44l.94 2.06.94-2.06 2.06-.94-2.06-.94-.94-2.06-.94 2.06-2.06.94zm-11 1L8.5 8.5l.94-2.06 2.06-.94-2.06-.94L8.5 2.5l-.94 2.06-2.06.94zm10 10l.94 2.06.94-2.06 2.06-.94-2.06-.94-.94-2.06-.94 2.06-2.06.94z\"/><path d=\"M17.41 7.96l-1.37-1.37c-.4-.4-.92-.59-1.43-.59-.52 0-1.04.2-1.43.59L10.3 9.45l-7.72 7.72c-.78.78-.78 2.05 0 2.83L4 21.41c.39.39.9.59 1.41.59.51 0 1.02-.2 1.41-.59l7.78-7.78 2.81-2.81c.8-.78.8-2.07 0-2.86zM5.41 20L4 18.59l7.72-7.72 1.47 1.35L5.41 20z\"/>\n",
              "  </svg>\n",
              "      </button>\n",
              "      \n",
              "  <style>\n",
              "    .colab-df-container {\n",
              "      display:flex;\n",
              "      flex-wrap:wrap;\n",
              "      gap: 12px;\n",
              "    }\n",
              "\n",
              "    .colab-df-convert {\n",
              "      background-color: #E8F0FE;\n",
              "      border: none;\n",
              "      border-radius: 50%;\n",
              "      cursor: pointer;\n",
              "      display: none;\n",
              "      fill: #1967D2;\n",
              "      height: 32px;\n",
              "      padding: 0 0 0 0;\n",
              "      width: 32px;\n",
              "    }\n",
              "\n",
              "    .colab-df-convert:hover {\n",
              "      background-color: #E2EBFA;\n",
              "      box-shadow: 0px 1px 2px rgba(60, 64, 67, 0.3), 0px 1px 3px 1px rgba(60, 64, 67, 0.15);\n",
              "      fill: #174EA6;\n",
              "    }\n",
              "\n",
              "    [theme=dark] .colab-df-convert {\n",
              "      background-color: #3B4455;\n",
              "      fill: #D2E3FC;\n",
              "    }\n",
              "\n",
              "    [theme=dark] .colab-df-convert:hover {\n",
              "      background-color: #434B5C;\n",
              "      box-shadow: 0px 1px 3px 1px rgba(0, 0, 0, 0.15);\n",
              "      filter: drop-shadow(0px 1px 2px rgba(0, 0, 0, 0.3));\n",
              "      fill: #FFFFFF;\n",
              "    }\n",
              "  </style>\n",
              "\n",
              "      <script>\n",
              "        const buttonEl =\n",
              "          document.querySelector('#df-f258d620-1230-41b9-80f0-c163c8cd15bc button.colab-df-convert');\n",
              "        buttonEl.style.display =\n",
              "          google.colab.kernel.accessAllowed ? 'block' : 'none';\n",
              "\n",
              "        async function convertToInteractive(key) {\n",
              "          const element = document.querySelector('#df-f258d620-1230-41b9-80f0-c163c8cd15bc');\n",
              "          const dataTable =\n",
              "            await google.colab.kernel.invokeFunction('convertToInteractive',\n",
              "                                                     [key], {});\n",
              "          if (!dataTable) return;\n",
              "\n",
              "          const docLinkHtml = 'Like what you see? Visit the ' +\n",
              "            '<a target=\"_blank\" href=https://colab.research.google.com/notebooks/data_table.ipynb>data table notebook</a>'\n",
              "            + ' to learn more about interactive tables.';\n",
              "          element.innerHTML = '';\n",
              "          dataTable['output_type'] = 'display_data';\n",
              "          await google.colab.output.renderOutput(dataTable, element);\n",
              "          const docLink = document.createElement('div');\n",
              "          docLink.innerHTML = docLinkHtml;\n",
              "          element.appendChild(docLink);\n",
              "        }\n",
              "      </script>\n",
              "    </div>\n",
              "  </div>\n",
              "  "
            ]
          },
          "metadata": {},
          "execution_count": 6
        }
      ],
      "source": [
        "df['Price']=df['Price'].str.replace(',','')\n",
        "df"
      ],
      "id": "9b808356"
    },
    {
      "cell_type": "code",
      "execution_count": null,
      "metadata": {
        "id": "10f7ef72",
        "colab": {
          "base_uri": "https://localhost:8080/",
          "height": 455
        },
        "outputId": "dd824578-5347-465b-af44-d8c905895873"
      },
      "outputs": [
        {
          "output_type": "execute_result",
          "data": {
            "text/plain": [
              "            Price\n",
              "Dates            \n",
              "2011-01-01   2067\n",
              "2011-02-01   1987\n",
              "2011-03-01   2089\n",
              "2011-04-01   2068\n",
              "2011-05-01   2224\n",
              "...           ...\n",
              "2021-08-01   4788\n",
              "2021-09-01   4704\n",
              "2021-10-01   4618\n",
              "2021-11-01   4761\n",
              "2021-12-01   4760\n",
              "\n",
              "[132 rows x 1 columns]"
            ],
            "text/html": [
              "\n",
              "  <div id=\"df-5195dba1-8ba2-40a1-a565-6ffc5d54275f\">\n",
              "    <div class=\"colab-df-container\">\n",
              "      <div>\n",
              "<style scoped>\n",
              "    .dataframe tbody tr th:only-of-type {\n",
              "        vertical-align: middle;\n",
              "    }\n",
              "\n",
              "    .dataframe tbody tr th {\n",
              "        vertical-align: top;\n",
              "    }\n",
              "\n",
              "    .dataframe thead th {\n",
              "        text-align: right;\n",
              "    }\n",
              "</style>\n",
              "<table border=\"1\" class=\"dataframe\">\n",
              "  <thead>\n",
              "    <tr style=\"text-align: right;\">\n",
              "      <th></th>\n",
              "      <th>Price</th>\n",
              "    </tr>\n",
              "    <tr>\n",
              "      <th>Dates</th>\n",
              "      <th></th>\n",
              "    </tr>\n",
              "  </thead>\n",
              "  <tbody>\n",
              "    <tr>\n",
              "      <th>2011-01-01</th>\n",
              "      <td>2067</td>\n",
              "    </tr>\n",
              "    <tr>\n",
              "      <th>2011-02-01</th>\n",
              "      <td>1987</td>\n",
              "    </tr>\n",
              "    <tr>\n",
              "      <th>2011-03-01</th>\n",
              "      <td>2089</td>\n",
              "    </tr>\n",
              "    <tr>\n",
              "      <th>2011-04-01</th>\n",
              "      <td>2068</td>\n",
              "    </tr>\n",
              "    <tr>\n",
              "      <th>2011-05-01</th>\n",
              "      <td>2224</td>\n",
              "    </tr>\n",
              "    <tr>\n",
              "      <th>...</th>\n",
              "      <td>...</td>\n",
              "    </tr>\n",
              "    <tr>\n",
              "      <th>2021-08-01</th>\n",
              "      <td>4788</td>\n",
              "    </tr>\n",
              "    <tr>\n",
              "      <th>2021-09-01</th>\n",
              "      <td>4704</td>\n",
              "    </tr>\n",
              "    <tr>\n",
              "      <th>2021-10-01</th>\n",
              "      <td>4618</td>\n",
              "    </tr>\n",
              "    <tr>\n",
              "      <th>2021-11-01</th>\n",
              "      <td>4761</td>\n",
              "    </tr>\n",
              "    <tr>\n",
              "      <th>2021-12-01</th>\n",
              "      <td>4760</td>\n",
              "    </tr>\n",
              "  </tbody>\n",
              "</table>\n",
              "<p>132 rows × 1 columns</p>\n",
              "</div>\n",
              "      <button class=\"colab-df-convert\" onclick=\"convertToInteractive('df-5195dba1-8ba2-40a1-a565-6ffc5d54275f')\"\n",
              "              title=\"Convert this dataframe to an interactive table.\"\n",
              "              style=\"display:none;\">\n",
              "        \n",
              "  <svg xmlns=\"http://www.w3.org/2000/svg\" height=\"24px\"viewBox=\"0 0 24 24\"\n",
              "       width=\"24px\">\n",
              "    <path d=\"M0 0h24v24H0V0z\" fill=\"none\"/>\n",
              "    <path d=\"M18.56 5.44l.94 2.06.94-2.06 2.06-.94-2.06-.94-.94-2.06-.94 2.06-2.06.94zm-11 1L8.5 8.5l.94-2.06 2.06-.94-2.06-.94L8.5 2.5l-.94 2.06-2.06.94zm10 10l.94 2.06.94-2.06 2.06-.94-2.06-.94-.94-2.06-.94 2.06-2.06.94z\"/><path d=\"M17.41 7.96l-1.37-1.37c-.4-.4-.92-.59-1.43-.59-.52 0-1.04.2-1.43.59L10.3 9.45l-7.72 7.72c-.78.78-.78 2.05 0 2.83L4 21.41c.39.39.9.59 1.41.59.51 0 1.02-.2 1.41-.59l7.78-7.78 2.81-2.81c.8-.78.8-2.07 0-2.86zM5.41 20L4 18.59l7.72-7.72 1.47 1.35L5.41 20z\"/>\n",
              "  </svg>\n",
              "      </button>\n",
              "      \n",
              "  <style>\n",
              "    .colab-df-container {\n",
              "      display:flex;\n",
              "      flex-wrap:wrap;\n",
              "      gap: 12px;\n",
              "    }\n",
              "\n",
              "    .colab-df-convert {\n",
              "      background-color: #E8F0FE;\n",
              "      border: none;\n",
              "      border-radius: 50%;\n",
              "      cursor: pointer;\n",
              "      display: none;\n",
              "      fill: #1967D2;\n",
              "      height: 32px;\n",
              "      padding: 0 0 0 0;\n",
              "      width: 32px;\n",
              "    }\n",
              "\n",
              "    .colab-df-convert:hover {\n",
              "      background-color: #E2EBFA;\n",
              "      box-shadow: 0px 1px 2px rgba(60, 64, 67, 0.3), 0px 1px 3px 1px rgba(60, 64, 67, 0.15);\n",
              "      fill: #174EA6;\n",
              "    }\n",
              "\n",
              "    [theme=dark] .colab-df-convert {\n",
              "      background-color: #3B4455;\n",
              "      fill: #D2E3FC;\n",
              "    }\n",
              "\n",
              "    [theme=dark] .colab-df-convert:hover {\n",
              "      background-color: #434B5C;\n",
              "      box-shadow: 0px 1px 3px 1px rgba(0, 0, 0, 0.15);\n",
              "      filter: drop-shadow(0px 1px 2px rgba(0, 0, 0, 0.3));\n",
              "      fill: #FFFFFF;\n",
              "    }\n",
              "  </style>\n",
              "\n",
              "      <script>\n",
              "        const buttonEl =\n",
              "          document.querySelector('#df-5195dba1-8ba2-40a1-a565-6ffc5d54275f button.colab-df-convert');\n",
              "        buttonEl.style.display =\n",
              "          google.colab.kernel.accessAllowed ? 'block' : 'none';\n",
              "\n",
              "        async function convertToInteractive(key) {\n",
              "          const element = document.querySelector('#df-5195dba1-8ba2-40a1-a565-6ffc5d54275f');\n",
              "          const dataTable =\n",
              "            await google.colab.kernel.invokeFunction('convertToInteractive',\n",
              "                                                     [key], {});\n",
              "          if (!dataTable) return;\n",
              "\n",
              "          const docLinkHtml = 'Like what you see? Visit the ' +\n",
              "            '<a target=\"_blank\" href=https://colab.research.google.com/notebooks/data_table.ipynb>data table notebook</a>'\n",
              "            + ' to learn more about interactive tables.';\n",
              "          element.innerHTML = '';\n",
              "          dataTable['output_type'] = 'display_data';\n",
              "          await google.colab.output.renderOutput(dataTable, element);\n",
              "          const docLink = document.createElement('div');\n",
              "          docLink.innerHTML = docLinkHtml;\n",
              "          element.appendChild(docLink);\n",
              "        }\n",
              "      </script>\n",
              "    </div>\n",
              "  </div>\n",
              "  "
            ]
          },
          "metadata": {},
          "execution_count": 7
        }
      ],
      "source": [
        "df_new=df.set_index('Dates').resample('MS').last()\n",
        "df_new['Price']=df_new['Price'].astype('int')\n",
        "df_new"
      ],
      "id": "10f7ef72"
    },
    {
      "cell_type": "code",
      "source": [
        "df_new.head(10)"
      ],
      "metadata": {
        "colab": {
          "base_uri": "https://localhost:8080/",
          "height": 394
        },
        "id": "60iF6ez9v7YG",
        "outputId": "938a3409-23e0-47af-b173-593126e8fd2c"
      },
      "id": "60iF6ez9v7YG",
      "execution_count": null,
      "outputs": [
        {
          "output_type": "execute_result",
          "data": {
            "text/plain": [
              "            Price\n",
              "Dates            \n",
              "2011-01-01   2067\n",
              "2011-02-01   1987\n",
              "2011-03-01   2089\n",
              "2011-04-01   2068\n",
              "2011-05-01   2224\n",
              "2011-06-01   2231\n",
              "2011-07-01   2187\n",
              "2011-08-01   2300\n",
              "2011-09-01   2717\n",
              "2011-10-01   2601"
            ],
            "text/html": [
              "\n",
              "  <div id=\"df-0a9e437a-f377-4fac-8035-439dc361aeb4\">\n",
              "    <div class=\"colab-df-container\">\n",
              "      <div>\n",
              "<style scoped>\n",
              "    .dataframe tbody tr th:only-of-type {\n",
              "        vertical-align: middle;\n",
              "    }\n",
              "\n",
              "    .dataframe tbody tr th {\n",
              "        vertical-align: top;\n",
              "    }\n",
              "\n",
              "    .dataframe thead th {\n",
              "        text-align: right;\n",
              "    }\n",
              "</style>\n",
              "<table border=\"1\" class=\"dataframe\">\n",
              "  <thead>\n",
              "    <tr style=\"text-align: right;\">\n",
              "      <th></th>\n",
              "      <th>Price</th>\n",
              "    </tr>\n",
              "    <tr>\n",
              "      <th>Dates</th>\n",
              "      <th></th>\n",
              "    </tr>\n",
              "  </thead>\n",
              "  <tbody>\n",
              "    <tr>\n",
              "      <th>2011-01-01</th>\n",
              "      <td>2067</td>\n",
              "    </tr>\n",
              "    <tr>\n",
              "      <th>2011-02-01</th>\n",
              "      <td>1987</td>\n",
              "    </tr>\n",
              "    <tr>\n",
              "      <th>2011-03-01</th>\n",
              "      <td>2089</td>\n",
              "    </tr>\n",
              "    <tr>\n",
              "      <th>2011-04-01</th>\n",
              "      <td>2068</td>\n",
              "    </tr>\n",
              "    <tr>\n",
              "      <th>2011-05-01</th>\n",
              "      <td>2224</td>\n",
              "    </tr>\n",
              "    <tr>\n",
              "      <th>2011-06-01</th>\n",
              "      <td>2231</td>\n",
              "    </tr>\n",
              "    <tr>\n",
              "      <th>2011-07-01</th>\n",
              "      <td>2187</td>\n",
              "    </tr>\n",
              "    <tr>\n",
              "      <th>2011-08-01</th>\n",
              "      <td>2300</td>\n",
              "    </tr>\n",
              "    <tr>\n",
              "      <th>2011-09-01</th>\n",
              "      <td>2717</td>\n",
              "    </tr>\n",
              "    <tr>\n",
              "      <th>2011-10-01</th>\n",
              "      <td>2601</td>\n",
              "    </tr>\n",
              "  </tbody>\n",
              "</table>\n",
              "</div>\n",
              "      <button class=\"colab-df-convert\" onclick=\"convertToInteractive('df-0a9e437a-f377-4fac-8035-439dc361aeb4')\"\n",
              "              title=\"Convert this dataframe to an interactive table.\"\n",
              "              style=\"display:none;\">\n",
              "        \n",
              "  <svg xmlns=\"http://www.w3.org/2000/svg\" height=\"24px\"viewBox=\"0 0 24 24\"\n",
              "       width=\"24px\">\n",
              "    <path d=\"M0 0h24v24H0V0z\" fill=\"none\"/>\n",
              "    <path d=\"M18.56 5.44l.94 2.06.94-2.06 2.06-.94-2.06-.94-.94-2.06-.94 2.06-2.06.94zm-11 1L8.5 8.5l.94-2.06 2.06-.94-2.06-.94L8.5 2.5l-.94 2.06-2.06.94zm10 10l.94 2.06.94-2.06 2.06-.94-2.06-.94-.94-2.06-.94 2.06-2.06.94z\"/><path d=\"M17.41 7.96l-1.37-1.37c-.4-.4-.92-.59-1.43-.59-.52 0-1.04.2-1.43.59L10.3 9.45l-7.72 7.72c-.78.78-.78 2.05 0 2.83L4 21.41c.39.39.9.59 1.41.59.51 0 1.02-.2 1.41-.59l7.78-7.78 2.81-2.81c.8-.78.8-2.07 0-2.86zM5.41 20L4 18.59l7.72-7.72 1.47 1.35L5.41 20z\"/>\n",
              "  </svg>\n",
              "      </button>\n",
              "      \n",
              "  <style>\n",
              "    .colab-df-container {\n",
              "      display:flex;\n",
              "      flex-wrap:wrap;\n",
              "      gap: 12px;\n",
              "    }\n",
              "\n",
              "    .colab-df-convert {\n",
              "      background-color: #E8F0FE;\n",
              "      border: none;\n",
              "      border-radius: 50%;\n",
              "      cursor: pointer;\n",
              "      display: none;\n",
              "      fill: #1967D2;\n",
              "      height: 32px;\n",
              "      padding: 0 0 0 0;\n",
              "      width: 32px;\n",
              "    }\n",
              "\n",
              "    .colab-df-convert:hover {\n",
              "      background-color: #E2EBFA;\n",
              "      box-shadow: 0px 1px 2px rgba(60, 64, 67, 0.3), 0px 1px 3px 1px rgba(60, 64, 67, 0.15);\n",
              "      fill: #174EA6;\n",
              "    }\n",
              "\n",
              "    [theme=dark] .colab-df-convert {\n",
              "      background-color: #3B4455;\n",
              "      fill: #D2E3FC;\n",
              "    }\n",
              "\n",
              "    [theme=dark] .colab-df-convert:hover {\n",
              "      background-color: #434B5C;\n",
              "      box-shadow: 0px 1px 3px 1px rgba(0, 0, 0, 0.15);\n",
              "      filter: drop-shadow(0px 1px 2px rgba(0, 0, 0, 0.3));\n",
              "      fill: #FFFFFF;\n",
              "    }\n",
              "  </style>\n",
              "\n",
              "      <script>\n",
              "        const buttonEl =\n",
              "          document.querySelector('#df-0a9e437a-f377-4fac-8035-439dc361aeb4 button.colab-df-convert');\n",
              "        buttonEl.style.display =\n",
              "          google.colab.kernel.accessAllowed ? 'block' : 'none';\n",
              "\n",
              "        async function convertToInteractive(key) {\n",
              "          const element = document.querySelector('#df-0a9e437a-f377-4fac-8035-439dc361aeb4');\n",
              "          const dataTable =\n",
              "            await google.colab.kernel.invokeFunction('convertToInteractive',\n",
              "                                                     [key], {});\n",
              "          if (!dataTable) return;\n",
              "\n",
              "          const docLinkHtml = 'Like what you see? Visit the ' +\n",
              "            '<a target=\"_blank\" href=https://colab.research.google.com/notebooks/data_table.ipynb>data table notebook</a>'\n",
              "            + ' to learn more about interactive tables.';\n",
              "          element.innerHTML = '';\n",
              "          dataTable['output_type'] = 'display_data';\n",
              "          await google.colab.output.renderOutput(dataTable, element);\n",
              "          const docLink = document.createElement('div');\n",
              "          docLink.innerHTML = docLinkHtml;\n",
              "          element.appendChild(docLink);\n",
              "        }\n",
              "      </script>\n",
              "    </div>\n",
              "  </div>\n",
              "  "
            ]
          },
          "metadata": {},
          "execution_count": 8
        }
      ]
    },
    {
      "cell_type": "code",
      "source": [
        "type(df_new)"
      ],
      "metadata": {
        "colab": {
          "base_uri": "https://localhost:8080/"
        },
        "id": "JVXdsy8gMKEV",
        "outputId": "7b85b44f-4909-4313-c7f3-ac387d7e7aa6"
      },
      "id": "JVXdsy8gMKEV",
      "execution_count": null,
      "outputs": [
        {
          "output_type": "execute_result",
          "data": {
            "text/plain": [
              "pandas.core.frame.DataFrame"
            ]
          },
          "metadata": {},
          "execution_count": 9
        }
      ]
    },
    {
      "cell_type": "code",
      "source": [
        "from statsmodels.tsa.seasonal import seasonal_decompose\n",
        "decompose_data=seasonal_decompose(df_new,model=\"muliplicative\")\n",
        "fig=decompose_data.plot()"
      ],
      "metadata": {
        "colab": {
          "base_uri": "https://localhost:8080/",
          "height": 297
        },
        "id": "9BzSR0uEaqxV",
        "outputId": "38da48dd-89a1-45d2-9821-7c5abc5f423c"
      },
      "id": "9BzSR0uEaqxV",
      "execution_count": null,
      "outputs": [
        {
          "output_type": "display_data",
          "data": {
            "text/plain": [
              "<Figure size 432x288 with 4 Axes>"
            ],
            "image/png": "[encoded data removed]"
          },
          "metadata": {
            "needs_background": "light"
          }
        }
      ]
    },
    {
      "cell_type": "code",
      "execution_count": null,
      "id": "4db73871",
      "metadata": {
        "colab": {
          "base_uri": "https://localhost:8080/",
          "height": 283
        },
        "id": "4db73871",
        "outputId": "bb1f9aec-24fe-4779-9674-922c1035ae34"
      },
      "outputs": [
        {
          "output_type": "execute_result",
          "data": {
            "text/plain": [
              "[<matplotlib.lines.Line2D at 0x7fe340f2ed10>]"
            ]
          },
          "metadata": {},
          "execution_count": 11
        },
        {
          "output_type": "display_data",
          "data": {
            "text/plain": [
              "<Figure size 432x288 with 1 Axes>"
            ],
            "image/png": "[encoded data removed]"
          },
          "metadata": {
            "needs_background": "light"
          }
        }
      ],
      "source": [
        "# PLot Graphs - For Daywise for first 500 Days.\n",
        "\n",
        "#plt.rcParams[\"figure.figsize\"] = (10, 5)\n",
        "plt.plot(df_new,color='Red',linestyle='solid')"
      ]
    },
    {
      "cell_type": "code",
      "execution_count": null,
      "id": "7fde55cb",
      "metadata": {
        "colab": {
          "base_uri": "https://localhost:8080/",
          "height": 283
        },
        "id": "7fde55cb",
        "outputId": "8370029c-3584-44ba-a530-197ee1238aed"
      },
      "outputs": [
        {
          "output_type": "execute_result",
          "data": {
            "text/plain": [
              "[<matplotlib.lines.Line2D at 0x7fe33dff4790>]"
            ]
          },
          "metadata": {},
          "execution_count": 12
        },
        {
          "output_type": "display_data",
          "data": {
            "text/plain": [
              "<Figure size 432x288 with 1 Axes>"
            ],
            "image/png": "[encoded data removed]"
          },
          "metadata": {
            "needs_background": "light"
          }
        }
      ],
      "source": [
        "# PLot Graphs - For Monthwise for first 500 Days.\n",
        "\n",
        "plt.plot(df_new.Price.resample('M').mean(),color='Red',linestyle='solid')"
      ]
    },
    {
      "cell_type": "code",
      "execution_count": null,
      "id": "99eb4fe2",
      "metadata": {
        "colab": {
          "base_uri": "https://localhost:8080/",
          "height": 282
        },
        "id": "99eb4fe2",
        "outputId": "a2fb67ed-eb0d-4220-df1b-0f11132ccf9d"
      },
      "outputs": [
        {
          "output_type": "execute_result",
          "data": {
            "text/plain": [
              "[<matplotlib.lines.Line2D at 0x7f1869cf7610>]"
            ]
          },
          "metadata": {},
          "execution_count": 13
        },
        {
          "output_type": "display_data",
          "data": {
            "text/plain": [
              "<Figure size 432x288 with 1 Axes>"
            ],
            "image/png": "[encoded data removed]"
          },
          "metadata": {
            "needs_background": "light"
          }
        }
      ],
      "source": [
        "# PLot Graphs - For Yearwise for first 500 Days.\n",
        "plt.plot(df_new.Price.resample('Y').mean(),color='Red',linestyle='solid')"
      ]
    },
    {
      "cell_type": "markdown",
      "id": "98cf93df",
      "metadata": {
        "id": "98cf93df"
      },
      "source": [
        "## Converting Non-Stationary time-series data into Stationary Time Series "
      ]
    },
    {
      "cell_type": "markdown",
      "id": "a563bc1d",
      "metadata": {
        "id": "a563bc1d"
      },
      "source": [
        "## 1) Calculate Rolling Statistics For window=12"
      ]
    },
    {
      "cell_type": "code",
      "execution_count": null,
      "id": "dda7d875",
      "metadata": {
        "id": "dda7d875"
      },
      "outputs": [],
      "source": [
        "\n",
        "def test_stationarity(timeseries):\n",
        "    \n",
        "    # Determining rolling statistics\n",
        "    movingmean=timeseries.rolling(window=12).mean()\n",
        "    movingSTD=timeseries.rolling(window=12).std()\n",
        "    \n",
        "    #Plot rolling statistics\n",
        "    orig=plt.plot(timeseries,color='blue',label='Original',linestyle='dashed')\n",
        "    mean=plt.plot(movingmean,color='red',label='RollingMean',linestyle='dotted')\n",
        "    std=plt.plot(movingSTD,color='black',label='RollingStd',linestyle='solid')\n",
        "    plt.legend(loc='upper left')\n",
        "    plt.title(\"Rolling mean and SD\")\n",
        "    plt.xlabel('Years')\n",
        "    plt.ylabel('Gold Price')\n",
        "    \n",
        "    \n",
        "    # Perform Dickey-Fuller Test\n",
        "    print(\"Result of Dickey-Fuller Test\")\n",
        "    dftest=adfuller(timeseries,autolag='AIC')\n",
        "    print(dftest)\n",
        "    dfoutput=pd.Series(dftest[0:4],index=['Test Statistics','P-value','Lags used','No of observation used'])\n",
        "    print(\"\\n\",dfoutput)\n",
        "    for key,value in dftest[4].items():\n",
        "        dfoutput['Critical value(%s)'%key]=value\n",
        "        #dfoutput(\"\\t\",key,\": \",val)\n",
        "\n",
        "    print(dfoutput)"
      ]
    },
    {
      "cell_type": "code",
      "execution_count": null,
      "id": "35924edb",
      "metadata": {
        "colab": {
          "base_uri": "https://localhost:8080/",
          "height": 573
        },
        "id": "35924edb",
        "outputId": "1605bd3e-7616-4799-92ec-2776b0292e75"
      },
      "outputs": [
        {
          "output_type": "stream",
          "name": "stdout",
          "text": [
            "Result of Dickey-Fuller Test\n",
            "(-0.4810857940986786, 0.8956549274286033, 1, 130, {'1%': -3.4816817173418295, '5%': -2.8840418343195267, '10%': -2.578770059171598}, 1517.3183733900958)\n",
            "\n",
            " Test Statistics            -0.481086\n",
            "P-value                     0.895655\n",
            "Lags used                   1.000000\n",
            "No of observation used    130.000000\n",
            "dtype: float64\n",
            "Test Statistics            -0.481086\n",
            "P-value                     0.895655\n",
            "Lags used                   1.000000\n",
            "No of observation used    130.000000\n",
            "Critical value(1%)         -3.481682\n",
            "Critical value(5%)         -2.884042\n",
            "Critical value(10%)        -2.578770\n",
            "dtype: float64\n"
          ]
        },
        {
          "output_type": "display_data",
          "data": {
            "text/plain": [
              "<Figure size 432x288 with 1 Axes>"
            ],
            "image/png": "[encoded data removed]"
          },
          "metadata": {
            "needs_background": "light"
          }
        }
      ],
      "source": [
        "stationality_check=test_stationarity(df_new.Price)"
      ]
    },
    {
      "cell_type": "markdown",
      "id": "513cbbd5",
      "metadata": {
        "id": "513cbbd5"
      },
      "source": [
        "## 2) Apply Log Transformation and then apply moving average for windows=12"
      ]
    },
    {
      "cell_type": "code",
      "execution_count": null,
      "id": "ebf782c9",
      "metadata": {
        "colab": {
          "base_uri": "https://localhost:8080/"
        },
        "id": "ebf782c9",
        "outputId": "251b4e4b-20f0-4fa4-9c2d-45cd5b07bf3a"
      },
      "outputs": [
        {
          "output_type": "execute_result",
          "data": {
            "text/plain": [
              "Dates\n",
              "2011-01-01    7.633854\n",
              "2011-02-01    7.594381\n",
              "2011-03-01    7.644441\n",
              "2011-04-01    7.634337\n",
              "2011-05-01    7.707063\n",
              "                ...   \n",
              "2021-08-01    8.473868\n",
              "2021-09-01    8.456168\n",
              "2021-10-01    8.437717\n",
              "2021-11-01    8.468213\n",
              "2021-12-01    8.468003\n",
              "Freq: MS, Name: Price, Length: 132, dtype: float64"
            ]
          },
          "metadata": {},
          "execution_count": 16
        }
      ],
      "source": [
        "#dataset_log=np.log(df.Price.resample('M',axis=0).mean())\n",
        "dataset_log=np.log(df_new.Price)\n",
        "dataset_log"
      ]
    },
    {
      "cell_type": "code",
      "execution_count": null,
      "id": "1a242b10",
      "metadata": {
        "colab": {
          "base_uri": "https://localhost:8080/",
          "height": 282
        },
        "id": "1a242b10",
        "outputId": "92bc4ead-42cf-4ebc-c423-8b6314b0715a"
      },
      "outputs": [
        {
          "output_type": "execute_result",
          "data": {
            "text/plain": [
              "[<matplotlib.lines.Line2D at 0x7f18696aa850>]"
            ]
          },
          "metadata": {},
          "execution_count": 17
        },
        {
          "output_type": "display_data",
          "data": {
            "text/plain": [
              "<Figure size 432x288 with 1 Axes>"
            ],
            "image/png": "[encoded data removed]"
          },
          "metadata": {
            "needs_background": "light"
          }
        }
      ],
      "source": [
        "plt.plot(dataset_log.resample('M').mean())"
      ]
    },
    {
      "cell_type": "code",
      "execution_count": null,
      "id": "6b204cc9",
      "metadata": {
        "colab": {
          "base_uri": "https://localhost:8080/"
        },
        "id": "6b204cc9",
        "outputId": "5981bd6e-7594-4b55-f56d-af59e7b688ee"
      },
      "outputs": [
        {
          "output_type": "execute_result",
          "data": {
            "text/plain": [
              "Dates\n",
              "2011-01-01         NaN\n",
              "2011-02-01         NaN\n",
              "2011-03-01         NaN\n",
              "2011-04-01         NaN\n",
              "2011-05-01         NaN\n",
              "2011-06-01         NaN\n",
              "2011-07-01         NaN\n",
              "2011-08-01         NaN\n",
              "2011-09-01         NaN\n",
              "2011-10-01         NaN\n",
              "2011-11-01         NaN\n",
              "2011-12-01    7.749932\n",
              "2012-01-01    7.773177\n",
              "2012-02-01    7.801879\n",
              "2012-03-01    7.825663\n",
              "2012-04-01    7.850946\n",
              "2012-05-01    7.873407\n",
              "2012-06-01    7.894829\n",
              "2012-07-01    7.920248\n",
              "2012-08-01    7.941187\n",
              "Freq: MS, Name: Price, dtype: float64"
            ]
          },
          "metadata": {},
          "execution_count": 18
        }
      ],
      "source": [
        "#dataset_log=dataset_log.resample('M').mean()\n",
        "movingavg_log=dataset_log.rolling(window=12).mean()\n",
        "movingstd_log=dataset_log.rolling(window=12).std()\n",
        "movingavg_log.head(20)"
      ]
    },
    {
      "cell_type": "code",
      "execution_count": null,
      "id": "99746146",
      "metadata": {
        "colab": {
          "base_uri": "https://localhost:8080/",
          "height": 282
        },
        "id": "99746146",
        "outputId": "5389bab3-50b8-41fd-f967-a0bdbe47e57b"
      },
      "outputs": [
        {
          "output_type": "execute_result",
          "data": {
            "text/plain": [
              "[<matplotlib.lines.Line2D at 0x7f186961e990>]"
            ]
          },
          "metadata": {},
          "execution_count": 19
        },
        {
          "output_type": "display_data",
          "data": {
            "text/plain": [
              "<Figure size 432x288 with 1 Axes>"
            ],
            "image/png": "[encoded data removed]"
          },
          "metadata": {
            "needs_background": "light"
          }
        }
      ],
      "source": [
        "plt.plot(movingavg_log.dropna().resample('M').mean(),c='red')"
      ]
    },
    {
      "cell_type": "code",
      "execution_count": null,
      "id": "06900dfb",
      "metadata": {
        "colab": {
          "base_uri": "https://localhost:8080/"
        },
        "id": "06900dfb",
        "outputId": "a4cb3e06-6360-4f15-fe0c-a816a1fc3e13"
      },
      "outputs": [
        {
          "output_type": "execute_result",
          "data": {
            "text/plain": [
              "Dates\n",
              "2011-12-01    0.218387\n",
              "2012-01-01    0.139612\n",
              "2012-02-01    0.136923\n",
              "2012-03-01    0.104184\n",
              "2012-04-01    0.086786\n",
              "2012-05-01    0.103189\n",
              "2012-06-01    0.072451\n",
              "2012-07-01    0.075059\n",
              "2012-08-01    0.050744\n",
              "2012-09-01    0.093464\n",
              "Freq: MS, Name: Price, dtype: float64"
            ]
          },
          "metadata": {},
          "execution_count": 20
        }
      ],
      "source": [
        "new_dataset_log=dataset_log-movingavg_log\n",
        "new_dataset_log.dropna(inplace=True)\n",
        "new_dataset_log.head(10)"
      ]
    },
    {
      "cell_type": "code",
      "execution_count": null,
      "id": "27bab913",
      "metadata": {
        "colab": {
          "base_uri": "https://localhost:8080/",
          "height": 573
        },
        "id": "27bab913",
        "outputId": "dad67938-a055-4be4-cd52-6c9ce05add90"
      },
      "outputs": [
        {
          "output_type": "stream",
          "name": "stdout",
          "text": [
            "Result of Dickey-Fuller Test\n",
            "(-3.918758349210181, 0.0019010520864856458, 0, 120, {'1%': -3.486055829282407, '5%': -2.8859430324074076, '10%': -2.5797850694444446}, -373.5726420712436)\n",
            "\n",
            " Test Statistics            -3.918758\n",
            "P-value                     0.001901\n",
            "Lags used                   0.000000\n",
            "No of observation used    120.000000\n",
            "dtype: float64\n",
            "Test Statistics            -3.918758\n",
            "P-value                     0.001901\n",
            "Lags used                   0.000000\n",
            "No of observation used    120.000000\n",
            "Critical value(1%)         -3.486056\n",
            "Critical value(5%)         -2.885943\n",
            "Critical value(10%)        -2.579785\n",
            "dtype: float64\n"
          ]
        },
        {
          "output_type": "display_data",
          "data": {
            "text/plain": [
              "<Figure size 432x288 with 1 Axes>"
            ],
            "image/png": "[encoded data removed]"
          },
          "metadata": {
            "needs_background": "light"
          }
        }
      ],
      "source": [
        "stationality_check=test_stationarity(new_dataset_log)"
      ]
    },
    {
      "cell_type": "markdown",
      "id": "ec2b5061",
      "metadata": {
        "id": "ec2b5061"
      },
      "source": [
        "## 3) Apply Exponential Moving Average"
      ]
    },
    {
      "cell_type": "code",
      "execution_count": null,
      "id": "6f05d55b",
      "metadata": {
        "colab": {
          "base_uri": "https://localhost:8080/",
          "height": 282
        },
        "id": "6f05d55b",
        "outputId": "84c009c3-0b38-445e-dd5a-2881a8e84156"
      },
      "outputs": [
        {
          "output_type": "execute_result",
          "data": {
            "text/plain": [
              "[<matplotlib.lines.Line2D at 0x7f186952cf10>]"
            ]
          },
          "metadata": {},
          "execution_count": 22
        },
        {
          "output_type": "display_data",
          "data": {
            "text/plain": [
              "<Figure size 432x288 with 1 Axes>"
            ],
            "image/png": "[encoded data removed]"
          },
          "metadata": {
            "needs_background": "light"
          }
        }
      ],
      "source": [
        "diffmovavg=dataset_log.ewm(halflife=12,min_periods=0,adjust=True).mean()\n",
        "plt.plot(diffmovavg.resample('M').mean(),c='red')"
      ]
    },
    {
      "cell_type": "code",
      "execution_count": null,
      "id": "562adf73",
      "metadata": {
        "colab": {
          "base_uri": "https://localhost:8080/",
          "height": 573
        },
        "id": "562adf73",
        "outputId": "4873771a-2ce5-4306-b053-c27b5af1a906"
      },
      "outputs": [
        {
          "output_type": "stream",
          "name": "stdout",
          "text": [
            "Result of Dickey-Fuller Test\n",
            "(-2.2136369641446323, 0.20133330740189653, 1, 130, {'1%': -3.4816817173418295, '5%': -2.8840418343195267, '10%': -2.578770059171598}, -416.15682289718325)\n",
            "\n",
            " Test Statistics            -2.213637\n",
            "P-value                     0.201333\n",
            "Lags used                   1.000000\n",
            "No of observation used    130.000000\n",
            "dtype: float64\n",
            "Test Statistics            -2.213637\n",
            "P-value                     0.201333\n",
            "Lags used                   1.000000\n",
            "No of observation used    130.000000\n",
            "Critical value(1%)         -3.481682\n",
            "Critical value(5%)         -2.884042\n",
            "Critical value(10%)        -2.578770\n",
            "dtype: float64\n"
          ]
        },
        {
          "output_type": "display_data",
          "data": {
            "text/plain": [
              "<Figure size 432x288 with 1 Axes>"
            ],
            "image/png": "[encoded data removed]"
          },
          "metadata": {
            "needs_background": "light"
          }
        }
      ],
      "source": [
        "new_dataset_movavg=dataset_log-diffmovavg\n",
        "test_stationarity(new_dataset_movavg)"
      ]
    },
    {
      "cell_type": "markdown",
      "id": "5180b021",
      "metadata": {
        "id": "5180b021"
      },
      "source": [
        "## 4) Differencing Previous value"
      ]
    },
    {
      "cell_type": "code",
      "execution_count": null,
      "id": "fc80f119",
      "metadata": {
        "id": "fc80f119"
      },
      "outputs": [],
      "source": [
        " # LogShiftDiff= dataset_log-dataset_log.shift()\n",
        "# plt.plot(diffprev)"
      ]
    },
    {
      "cell_type": "code",
      "execution_count": null,
      "id": "6554cd9d",
      "metadata": {
        "id": "6554cd9d"
      },
      "outputs": [],
      "source": [
        "# LogShiftDiff.dropna(inplace=True)\n",
        "# test_stationarity(LogShiftDiff)"
      ]
    },
    {
      "cell_type": "markdown",
      "id": "671e4811",
      "metadata": {
        "id": "671e4811"
      },
      "source": [
        "## Plotting PACF and ACF plots."
      ]
    },
    {
      "cell_type": "code",
      "execution_count": null,
      "metadata": {
        "colab": {
          "base_uri": "https://localhost:8080/",
          "height": 366
        },
        "outputId": "922d72e6-2c5b-4ce3-8f7f-3a9fd8fcb813",
        "id": "9b9fvINApfDP"
      },
      "outputs": [
        {
          "output_type": "stream",
          "name": "stderr",
          "text": [
            "/usr/local/lib/python3.7/dist-packages/statsmodels/graphics/tsaplots.py:353: FutureWarning: The default method 'yw' can produce PACF values outside of the [-1,1] interval. After 0.13, the default will change tounadjusted Yule-Walker ('ywm'). You can use this method now by setting method='ywm'.\n",
            "  FutureWarning,\n"
          ]
        },
        {
          "output_type": "display_data",
          "data": {
            "text/plain": [
              "<Figure size 1080x720 with 2 Axes>"
            ],
            "image/png": "[encoded data removed]"
          },
          "metadata": {
            "needs_background": "light"
          }
        }
      ],
      "source": [
        "#Find the lags for AR and MA Models\n",
        "\n",
        "fig=plt.figure(figsize=(15,10))\n",
        "ax1=fig.add_subplot(2,2,1)\n",
        "fig=plot_pacf(new_dataset_log,lags=20,ax=ax1)\n",
        "ax2=fig.add_subplot(2,2,2)\n",
        "fig=plot_acf(new_dataset_log,lags=20,ax=ax2)"
      ],
      "id": "9b9fvINApfDP"
    },
    {
      "cell_type": "code",
      "source": [
        "# Use ARIMA model only if there is no seasonality in time series model.\n",
        "\n",
        "# AR - p - Past Lags.\n",
        "# d- differencing\n",
        "# MA - q - Past Error"
      ],
      "metadata": {
        "id": "JylZoctsYOtU"
      },
      "id": "JylZoctsYOtU",
      "execution_count": null,
      "outputs": []
    },
    {
      "cell_type": "code",
      "execution_count": null,
      "metadata": {
        "id": "z0ZRabQ3pfDS",
        "colab": {
          "base_uri": "https://localhost:8080/"
        },
        "outputId": "eef6995a-9eab-4ed1-8f6b-8797d18d7fd9"
      },
      "outputs": [
        {
          "output_type": "stream",
          "name": "stderr",
          "text": [
            "/usr/local/lib/python3.7/dist-packages/statsmodels/base/model.py:606: ConvergenceWarning: Maximum Likelihood optimization failed to converge. Check mle_retvals\n",
            "  ConvergenceWarning)\n"
          ]
        }
      ],
      "source": [
        "model=ARIMA(df_new['Price'],order=(5,2,5))\n",
        "model_fit=model.fit()"
      ],
      "id": "z0ZRabQ3pfDS"
    },
    {
      "cell_type": "code",
      "source": [
        "forecast=model_fit.forecast(steps=12)[0]\n",
        "forecast"
      ],
      "metadata": {
        "colab": {
          "base_uri": "https://localhost:8080/"
        },
        "id": "gnY1jO2QE6HE",
        "outputId": "7980dc3b-452b-42ad-b720-36af94f570ec"
      },
      "id": "gnY1jO2QE6HE",
      "execution_count": null,
      "outputs": [
        {
          "output_type": "execute_result",
          "data": {
            "text/plain": [
              "4805.073334044285"
            ]
          },
          "metadata": {},
          "execution_count": 82
        }
      ]
    },
    {
      "cell_type": "code",
      "source": [
        "df_new[['Price','Forecast']].plot(figsize=(10,5))"
      ],
      "metadata": {
        "colab": {
          "base_uri": "https://localhost:8080/",
          "height": 351
        },
        "id": "cdToLa7894F_",
        "outputId": "6251003e-d58a-461f-ab8f-a0295a11dd5f"
      },
      "id": "cdToLa7894F_",
      "execution_count": null,
      "outputs": [
        {
          "output_type": "execute_result",
          "data": {
            "text/plain": [
              "<matplotlib.axes._subplots.AxesSubplot at 0x7f18668a4f50>"
            ]
          },
          "metadata": {},
          "execution_count": 83
        },
        {
          "output_type": "display_data",
          "data": {
            "text/plain": [
              "<Figure size 720x360 with 1 Axes>"
            ],
            "image/png": "[encoded data removed]"
          },
          "metadata": {
            "needs_background": "light"
          }
        }
      ]
    },
    {
      "cell_type": "code",
      "execution_count": null,
      "metadata": {
        "id": "Ms_wAcwTpfDS",
        "colab": {
          "base_uri": "https://localhost:8080/",
          "height": 386
        },
        "outputId": "d566a535-810a-4ec1-965b-000accf31308"
      },
      "outputs": [
        {
          "output_type": "stream",
          "name": "stderr",
          "text": [
            "/usr/local/lib/python3.7/dist-packages/statsmodels/tsa/statespace/sarimax.py:997: UserWarning: Non-stationary starting seasonal autoregressive Using zeros as starting parameters.\n",
            "  warn('Non-stationary starting seasonal autoregressive'\n"
          ]
        },
        {
          "output_type": "execute_result",
          "data": {
            "text/plain": [
              "<matplotlib.axes._subplots.AxesSubplot at 0x7f1862102290>"
            ]
          },
          "metadata": {},
          "execution_count": 154
        },
        {
          "output_type": "display_data",
          "data": {
            "text/plain": [
              "<Figure size 720x360 with 1 Axes>"
            ],
            "image/png": "[encoded data removed]"
          },
          "metadata": {
            "needs_background": "light"
          }
        }
      ],
      "source": [
        "model_sarimax=sm.tsa.statespace.SARIMAX(df_new['Price'],order=(2,2,1),seasonal_order=(2,2,1,24))\n",
        "model_sarimax_fit=model_sarimax.fit()\n",
        "\n",
        "df_new['Forecast']=model_sarimax_fit.predict(start=100,end=131 ,dynamic=True)\n",
        "df_new[['Price','Forecast']].plot(figsize=(10,5))\n"
      ],
      "id": "Ms_wAcwTpfDS"
    },
    {
      "cell_type": "code",
      "source": [
        "df_new.drop(columns='Forecast',inplace=True)\n",
        "df_new"
      ],
      "metadata": {
        "id": "Ifh_YpSuX4lP",
        "colab": {
          "base_uri": "https://localhost:8080/",
          "height": 455
        },
        "outputId": "5d68eb9f-c5b3-435c-a7e8-6ffc17b20554"
      },
      "id": "Ifh_YpSuX4lP",
      "execution_count": null,
      "outputs": [
        {
          "output_type": "execute_result",
          "data": {
            "text/plain": [
              "            Price\n",
              "Dates            \n",
              "2011-01-01   2067\n",
              "2011-02-01   1987\n",
              "2011-03-01   2089\n",
              "2011-04-01   2068\n",
              "2011-05-01   2224\n",
              "...           ...\n",
              "2021-08-01   4788\n",
              "2021-09-01   4704\n",
              "2021-10-01   4618\n",
              "2021-11-01   4761\n",
              "2021-12-01   4760\n",
              "\n",
              "[132 rows x 1 columns]"
            ],
            "text/html": [
              "\n",
              "  <div id=\"df-030b8d74-8f18-410a-8b0a-84790540a30c\">\n",
              "    <div class=\"colab-df-container\">\n",
              "      <div>\n",
              "<style scoped>\n",
              "    .dataframe tbody tr th:only-of-type {\n",
              "        vertical-align: middle;\n",
              "    }\n",
              "\n",
              "    .dataframe tbody tr th {\n",
              "        vertical-align: top;\n",
              "    }\n",
              "\n",
              "    .dataframe thead th {\n",
              "        text-align: right;\n",
              "    }\n",
              "</style>\n",
              "<table border=\"1\" class=\"dataframe\">\n",
              "  <thead>\n",
              "    <tr style=\"text-align: right;\">\n",
              "      <th></th>\n",
              "      <th>Price</th>\n",
              "    </tr>\n",
              "    <tr>\n",
              "      <th>Dates</th>\n",
              "      <th></th>\n",
              "    </tr>\n",
              "  </thead>\n",
              "  <tbody>\n",
              "    <tr>\n",
              "      <th>2011-01-01</th>\n",
              "      <td>2067</td>\n",
              "    </tr>\n",
              "    <tr>\n",
              "      <th>2011-02-01</th>\n",
              "      <td>1987</td>\n",
              "    </tr>\n",
              "    <tr>\n",
              "      <th>2011-03-01</th>\n",
              "      <td>2089</td>\n",
              "    </tr>\n",
              "    <tr>\n",
              "      <th>2011-04-01</th>\n",
              "      <td>2068</td>\n",
              "    </tr>\n",
              "    <tr>\n",
              "      <th>2011-05-01</th>\n",
              "      <td>2224</td>\n",
              "    </tr>\n",
              "    <tr>\n",
              "      <th>...</th>\n",
              "      <td>...</td>\n",
              "    </tr>\n",
              "    <tr>\n",
              "      <th>2021-08-01</th>\n",
              "      <td>4788</td>\n",
              "    </tr>\n",
              "    <tr>\n",
              "      <th>2021-09-01</th>\n",
              "      <td>4704</td>\n",
              "    </tr>\n",
              "    <tr>\n",
              "      <th>2021-10-01</th>\n",
              "      <td>4618</td>\n",
              "    </tr>\n",
              "    <tr>\n",
              "      <th>2021-11-01</th>\n",
              "      <td>4761</td>\n",
              "    </tr>\n",
              "    <tr>\n",
              "      <th>2021-12-01</th>\n",
              "      <td>4760</td>\n",
              "    </tr>\n",
              "  </tbody>\n",
              "</table>\n",
              "<p>132 rows × 1 columns</p>\n",
              "</div>\n",
              "      <button class=\"colab-df-convert\" onclick=\"convertToInteractive('df-030b8d74-8f18-410a-8b0a-84790540a30c')\"\n",
              "              title=\"Convert this dataframe to an interactive table.\"\n",
              "              style=\"display:none;\">\n",
              "        \n",
              "  <svg xmlns=\"http://www.w3.org/2000/svg\" height=\"24px\"viewBox=\"0 0 24 24\"\n",
              "       width=\"24px\">\n",
              "    <path d=\"M0 0h24v24H0V0z\" fill=\"none\"/>\n",
              "    <path d=\"M18.56 5.44l.94 2.06.94-2.06 2.06-.94-2.06-.94-.94-2.06-.94 2.06-2.06.94zm-11 1L8.5 8.5l.94-2.06 2.06-.94-2.06-.94L8.5 2.5l-.94 2.06-2.06.94zm10 10l.94 2.06.94-2.06 2.06-.94-2.06-.94-.94-2.06-.94 2.06-2.06.94z\"/><path d=\"M17.41 7.96l-1.37-1.37c-.4-.4-.92-.59-1.43-.59-.52 0-1.04.2-1.43.59L10.3 9.45l-7.72 7.72c-.78.78-.78 2.05 0 2.83L4 21.41c.39.39.9.59 1.41.59.51 0 1.02-.2 1.41-.59l7.78-7.78 2.81-2.81c.8-.78.8-2.07 0-2.86zM5.41 20L4 18.59l7.72-7.72 1.47 1.35L5.41 20z\"/>\n",
              "  </svg>\n",
              "      </button>\n",
              "      \n",
              "  <style>\n",
              "    .colab-df-container {\n",
              "      display:flex;\n",
              "      flex-wrap:wrap;\n",
              "      gap: 12px;\n",
              "    }\n",
              "\n",
              "    .colab-df-convert {\n",
              "      background-color: #E8F0FE;\n",
              "      border: none;\n",
              "      border-radius: 50%;\n",
              "      cursor: pointer;\n",
              "      display: none;\n",
              "      fill: #1967D2;\n",
              "      height: 32px;\n",
              "      padding: 0 0 0 0;\n",
              "      width: 32px;\n",
              "    }\n",
              "\n",
              "    .colab-df-convert:hover {\n",
              "      background-color: #E2EBFA;\n",
              "      box-shadow: 0px 1px 2px rgba(60, 64, 67, 0.3), 0px 1px 3px 1px rgba(60, 64, 67, 0.15);\n",
              "      fill: #174EA6;\n",
              "    }\n",
              "\n",
              "    [theme=dark] .colab-df-convert {\n",
              "      background-color: #3B4455;\n",
              "      fill: #D2E3FC;\n",
              "    }\n",
              "\n",
              "    [theme=dark] .colab-df-convert:hover {\n",
              "      background-color: #434B5C;\n",
              "      box-shadow: 0px 1px 3px 1px rgba(0, 0, 0, 0.15);\n",
              "      filter: drop-shadow(0px 1px 2px rgba(0, 0, 0, 0.3));\n",
              "      fill: #FFFFFF;\n",
              "    }\n",
              "  </style>\n",
              "\n",
              "      <script>\n",
              "        const buttonEl =\n",
              "          document.querySelector('#df-030b8d74-8f18-410a-8b0a-84790540a30c button.colab-df-convert');\n",
              "        buttonEl.style.display =\n",
              "          google.colab.kernel.accessAllowed ? 'block' : 'none';\n",
              "\n",
              "        async function convertToInteractive(key) {\n",
              "          const element = document.querySelector('#df-030b8d74-8f18-410a-8b0a-84790540a30c');\n",
              "          const dataTable =\n",
              "            await google.colab.kernel.invokeFunction('convertToInteractive',\n",
              "                                                     [key], {});\n",
              "          if (!dataTable) return;\n",
              "\n",
              "          const docLinkHtml = 'Like what you see? Visit the ' +\n",
              "            '<a target=\"_blank\" href=https://colab.research.google.com/notebooks/data_table.ipynb>data table notebook</a>'\n",
              "            + ' to learn more about interactive tables.';\n",
              "          element.innerHTML = '';\n",
              "          dataTable['output_type'] = 'display_data';\n",
              "          await google.colab.output.renderOutput(dataTable, element);\n",
              "          const docLink = document.createElement('div');\n",
              "          docLink.innerHTML = docLinkHtml;\n",
              "          element.appendChild(docLink);\n",
              "        }\n",
              "      </script>\n",
              "    </div>\n",
              "  </div>\n",
              "  "
            ]
          },
          "metadata": {},
          "execution_count": 70
        }
      ]
    },
    {
      "cell_type": "code",
      "source": [
        ""
      ],
      "metadata": {
        "id": "gAerX__XoceY"
      },
      "id": "gAerX__XoceY",
      "execution_count": null,
      "outputs": []
    },
    {
      "cell_type": "code",
      "source": [
        "stepwise_fit = auto_arima(df_new['Price'],trace=True, \n",
        "                          suppress_warnings=True)           \n",
        "\n",
        "stepwise_fit.summary()"
      ],
      "metadata": {
        "colab": {
          "base_uri": "https://localhost:8080/",
          "height": 648
        },
        "id": "w5NO10UOmUU5",
        "outputId": "ef37a4d7-4651-4d8e-cd8f-0c11fab10c56"
      },
      "id": "w5NO10UOmUU5",
      "execution_count": null,
      "outputs": [
        {
          "output_type": "stream",
          "name": "stdout",
          "text": [
            "Performing stepwise search to minimize aic\n",
            " ARIMA(2,1,2)(0,0,0)[0] intercept   : AIC=1685.097, Time=0.53 sec\n",
            " ARIMA(0,1,0)(0,0,0)[0] intercept   : AIC=1686.092, Time=0.01 sec\n",
            " ARIMA(1,1,0)(0,0,0)[0] intercept   : AIC=1683.701, Time=0.08 sec\n",
            " ARIMA(0,1,1)(0,0,0)[0] intercept   : AIC=1684.113, Time=0.07 sec\n",
            " ARIMA(0,1,0)(0,0,0)[0]             : AIC=1686.575, Time=0.01 sec\n",
            " ARIMA(2,1,0)(0,0,0)[0] intercept   : AIC=1685.612, Time=0.10 sec\n",
            " ARIMA(1,1,1)(0,0,0)[0] intercept   : AIC=1685.658, Time=0.11 sec\n",
            " ARIMA(2,1,1)(0,0,0)[0] intercept   : AIC=1687.362, Time=0.35 sec\n",
            " ARIMA(1,1,0)(0,0,0)[0]             : AIC=1685.251, Time=0.02 sec\n",
            "\n",
            "Best model:  ARIMA(1,1,0)(0,0,0)[0] intercept\n",
            "Total fit time: 1.323 seconds\n"
          ]
        },
        {
          "output_type": "execute_result",
          "data": {
            "text/plain": [
              "<class 'statsmodels.iolib.summary.Summary'>\n",
              "\"\"\"\n",
              "                               SARIMAX Results                                \n",
              "==============================================================================\n",
              "Dep. Variable:                      y   No. Observations:                  132\n",
              "Model:               SARIMAX(1, 1, 0)   Log Likelihood                -838.850\n",
              "Date:                Tue, 05 Apr 2022   AIC                           1683.701\n",
              "Time:                        06:17:26   BIC                           1692.327\n",
              "Sample:                             0   HQIC                          1687.206\n",
              "                                - 132                                         \n",
              "Covariance Type:                  opg                                         \n",
              "==============================================================================\n",
              "                 coef    std err          z      P>|z|      [0.025      0.975]\n",
              "------------------------------------------------------------------------------\n",
              "intercept     24.7022     15.129      1.633      0.103      -4.951      54.355\n",
              "ar.L1         -0.1813      0.082     -2.200      0.028      -0.343      -0.020\n",
              "sigma2      2.133e+04   2077.154     10.270      0.000    1.73e+04    2.54e+04\n",
              "===================================================================================\n",
              "Ljung-Box (L1) (Q):                   0.00   Jarque-Bera (JB):                45.68\n",
              "Prob(Q):                              0.95   Prob(JB):                         0.00\n",
              "Heteroskedasticity (H):               1.32   Skew:                             0.90\n",
              "Prob(H) (two-sided):                  0.36   Kurtosis:                         5.27\n",
              "===================================================================================\n",
              "\n",
              "Warnings:\n",
              "[1] Covariance matrix calculated using the outer product of gradients (complex-step).\n",
              "\"\"\""
            ],
            "text/html": [
              "<table class=\"simpletable\">\n",
              "<caption>SARIMAX Results</caption>\n",
              "<tr>\n",
              "  <th>Dep. Variable:</th>           <td>y</td>        <th>  No. Observations:  </th>    <td>132</td>  \n",
              "</tr>\n",
              "<tr>\n",
              "  <th>Model:</th>           <td>SARIMAX(1, 1, 0)</td> <th>  Log Likelihood     </th> <td>-838.850</td>\n",
              "</tr>\n",
              "<tr>\n",
              "  <th>Date:</th>            <td>Tue, 05 Apr 2022</td> <th>  AIC                </th> <td>1683.701</td>\n",
              "</tr>\n",
              "<tr>\n",
              "  <th>Time:</th>                <td>06:17:26</td>     <th>  BIC                </th> <td>1692.327</td>\n",
              "</tr>\n",
              "<tr>\n",
              "  <th>Sample:</th>                  <td>0</td>        <th>  HQIC               </th> <td>1687.206</td>\n",
              "</tr>\n",
              "<tr>\n",
              "  <th></th>                      <td> - 132</td>      <th>                     </th>     <td> </td>   \n",
              "</tr>\n",
              "<tr>\n",
              "  <th>Covariance Type:</th>        <td>opg</td>       <th>                     </th>     <td> </td>   \n",
              "</tr>\n",
              "</table>\n",
              "<table class=\"simpletable\">\n",
              "<tr>\n",
              "      <td></td>         <th>coef</th>     <th>std err</th>      <th>z</th>      <th>P>|z|</th>  <th>[0.025</th>    <th>0.975]</th>  \n",
              "</tr>\n",
              "<tr>\n",
              "  <th>intercept</th> <td>   24.7022</td> <td>   15.129</td> <td>    1.633</td> <td> 0.103</td> <td>   -4.951</td> <td>   54.355</td>\n",
              "</tr>\n",
              "<tr>\n",
              "  <th>ar.L1</th>     <td>   -0.1813</td> <td>    0.082</td> <td>   -2.200</td> <td> 0.028</td> <td>   -0.343</td> <td>   -0.020</td>\n",
              "</tr>\n",
              "<tr>\n",
              "  <th>sigma2</th>    <td> 2.133e+04</td> <td> 2077.154</td> <td>   10.270</td> <td> 0.000</td> <td> 1.73e+04</td> <td> 2.54e+04</td>\n",
              "</tr>\n",
              "</table>\n",
              "<table class=\"simpletable\">\n",
              "<tr>\n",
              "  <th>Ljung-Box (L1) (Q):</th>     <td>0.00</td> <th>  Jarque-Bera (JB):  </th> <td>45.68</td>\n",
              "</tr>\n",
              "<tr>\n",
              "  <th>Prob(Q):</th>                <td>0.95</td> <th>  Prob(JB):          </th> <td>0.00</td> \n",
              "</tr>\n",
              "<tr>\n",
              "  <th>Heteroskedasticity (H):</th> <td>1.32</td> <th>  Skew:              </th> <td>0.90</td> \n",
              "</tr>\n",
              "<tr>\n",
              "  <th>Prob(H) (two-sided):</th>    <td>0.36</td> <th>  Kurtosis:          </th> <td>5.27</td> \n",
              "</tr>\n",
              "</table><br/><br/>Warnings:<br/>[1] Covariance matrix calculated using the outer product of gradients (complex-step)."
            ]
          },
          "metadata": {},
          "execution_count": 26
        }
      ]
    },
    {
      "cell_type": "code",
      "source": [
        "print(df_new.shape)\n",
        "train=df_new.iloc[:-30]\n",
        "test=df_new.iloc[-30:]\n",
        "print(train.shape,test.shape)\n",
        "print(test.iloc[0],test.iloc[-1])"
      ],
      "metadata": {
        "colab": {
          "base_uri": "https://localhost:8080/"
        },
        "id": "ikU0wkahmUXh",
        "outputId": "3aa305e5-0149-4282-864c-087e58d770b6"
      },
      "id": "ikU0wkahmUXh",
      "execution_count": null,
      "outputs": [
        {
          "output_type": "stream",
          "name": "stdout",
          "text": [
            "(132, 3)\n",
            "(102, 3) (30, 3)\n",
            "Price     3365.000000\n",
            "CMA30     2829.883495\n",
            "EWMA30    3054.626830\n",
            "Name: 2019-07-01 00:00:00, dtype: float64 Price     4760.000000\n",
            "CMA30     3200.825758\n",
            "EWMA30    4424.734241\n",
            "Name: 2021-12-01 00:00:00, dtype: float64\n"
          ]
        }
      ]
    },
    {
      "cell_type": "code",
      "source": [
        "from statsmodels.tsa.arima.model import ARIMA\n",
        "model=ARIMA(train['Price'],order=(5,1,5))\n",
        "model=model.fit()\n",
        "model.summary()\n"
      ],
      "metadata": {
        "colab": {
          "base_uri": "https://localhost:8080/",
          "height": 642
        },
        "id": "9FSHUK25mUZ5",
        "outputId": "dff125d9-b351-4b30-88f5-d4899e496612"
      },
      "id": "9FSHUK25mUZ5",
      "execution_count": null,
      "outputs": [
        {
          "output_type": "stream",
          "name": "stderr",
          "text": [
            "/usr/local/lib/python3.7/dist-packages/statsmodels/base/model.py:606: ConvergenceWarning: Maximum Likelihood optimization failed to converge. Check mle_retvals\n",
            "  ConvergenceWarning)\n"
          ]
        },
        {
          "output_type": "execute_result",
          "data": {
            "text/plain": [
              "<class 'statsmodels.iolib.summary.Summary'>\n",
              "\"\"\"\n",
              "                               SARIMAX Results                                \n",
              "==============================================================================\n",
              "Dep. Variable:                  Price   No. Observations:                  102\n",
              "Model:                 ARIMA(5, 1, 5)   Log Likelihood                -626.553\n",
              "Date:                Tue, 05 Apr 2022   AIC                           1275.106\n",
              "Time:                        06:17:35   BIC                           1303.872\n",
              "Sample:                    01-01-2011   HQIC                          1286.751\n",
              "                         - 06-01-2019                                         \n",
              "Covariance Type:                  opg                                         \n",
              "==============================================================================\n",
              "                 coef    std err          z      P>|z|      [0.025      0.975]\n",
              "------------------------------------------------------------------------------\n",
              "ar.L1          0.0172      0.904      0.019      0.985      -1.755       1.789\n",
              "ar.L2         -0.3690      0.456     -0.809      0.419      -1.263       0.525\n",
              "ar.L3         -0.1758      0.521     -0.337      0.736      -1.197       0.846\n",
              "ar.L4         -0.8007      0.312     -2.570      0.010      -1.411      -0.190\n",
              "ar.L5          0.4247      0.773      0.550      0.583      -1.090       1.939\n",
              "ma.L1         -0.1489     10.407     -0.014      0.989     -20.546      20.248\n",
              "ma.L2          0.2519     10.508      0.024      0.981     -20.343      20.847\n",
              "ma.L3          0.1684     15.637      0.011      0.991     -30.479      30.815\n",
              "ma.L4          0.7322      8.984      0.082      0.935     -16.875      18.340\n",
              "ma.L5         -0.5406     10.860     -0.050      0.960     -21.825      20.744\n",
              "sigma2      1.447e+04   2.84e+05      0.051      0.959   -5.42e+05    5.71e+05\n",
              "===================================================================================\n",
              "Ljung-Box (L1) (Q):                   0.76   Jarque-Bera (JB):                35.64\n",
              "Prob(Q):                              0.38   Prob(JB):                         0.00\n",
              "Heteroskedasticity (H):               0.26   Skew:                             0.91\n",
              "Prob(H) (two-sided):                  0.00   Kurtosis:                         5.27\n",
              "===================================================================================\n",
              "\n",
              "Warnings:\n",
              "[1] Covariance matrix calculated using the outer product of gradients (complex-step).\n",
              "[2] Covariance matrix is singular or near-singular, with condition number 5.18e+14. Standard errors may be unstable.\n",
              "\"\"\""
            ],
            "text/html": [
              "<table class=\"simpletable\">\n",
              "<caption>SARIMAX Results</caption>\n",
              "<tr>\n",
              "  <th>Dep. Variable:</th>         <td>Price</td>      <th>  No. Observations:  </th>    <td>102</td>  \n",
              "</tr>\n",
              "<tr>\n",
              "  <th>Model:</th>            <td>ARIMA(5, 1, 5)</td>  <th>  Log Likelihood     </th> <td>-626.553</td>\n",
              "</tr>\n",
              "<tr>\n",
              "  <th>Date:</th>            <td>Tue, 05 Apr 2022</td> <th>  AIC                </th> <td>1275.106</td>\n",
              "</tr>\n",
              "<tr>\n",
              "  <th>Time:</th>                <td>06:17:35</td>     <th>  BIC                </th> <td>1303.872</td>\n",
              "</tr>\n",
              "<tr>\n",
              "  <th>Sample:</th>             <td>01-01-2011</td>    <th>  HQIC               </th> <td>1286.751</td>\n",
              "</tr>\n",
              "<tr>\n",
              "  <th></th>                   <td>- 06-01-2019</td>   <th>                     </th>     <td> </td>   \n",
              "</tr>\n",
              "<tr>\n",
              "  <th>Covariance Type:</th>        <td>opg</td>       <th>                     </th>     <td> </td>   \n",
              "</tr>\n",
              "</table>\n",
              "<table class=\"simpletable\">\n",
              "<tr>\n",
              "     <td></td>       <th>coef</th>     <th>std err</th>      <th>z</th>      <th>P>|z|</th>  <th>[0.025</th>    <th>0.975]</th>  \n",
              "</tr>\n",
              "<tr>\n",
              "  <th>ar.L1</th>  <td>    0.0172</td> <td>    0.904</td> <td>    0.019</td> <td> 0.985</td> <td>   -1.755</td> <td>    1.789</td>\n",
              "</tr>\n",
              "<tr>\n",
              "  <th>ar.L2</th>  <td>   -0.3690</td> <td>    0.456</td> <td>   -0.809</td> <td> 0.419</td> <td>   -1.263</td> <td>    0.525</td>\n",
              "</tr>\n",
              "<tr>\n",
              "  <th>ar.L3</th>  <td>   -0.1758</td> <td>    0.521</td> <td>   -0.337</td> <td> 0.736</td> <td>   -1.197</td> <td>    0.846</td>\n",
              "</tr>\n",
              "<tr>\n",
              "  <th>ar.L4</th>  <td>   -0.8007</td> <td>    0.312</td> <td>   -2.570</td> <td> 0.010</td> <td>   -1.411</td> <td>   -0.190</td>\n",
              "</tr>\n",
              "<tr>\n",
              "  <th>ar.L5</th>  <td>    0.4247</td> <td>    0.773</td> <td>    0.550</td> <td> 0.583</td> <td>   -1.090</td> <td>    1.939</td>\n",
              "</tr>\n",
              "<tr>\n",
              "  <th>ma.L1</th>  <td>   -0.1489</td> <td>   10.407</td> <td>   -0.014</td> <td> 0.989</td> <td>  -20.546</td> <td>   20.248</td>\n",
              "</tr>\n",
              "<tr>\n",
              "  <th>ma.L2</th>  <td>    0.2519</td> <td>   10.508</td> <td>    0.024</td> <td> 0.981</td> <td>  -20.343</td> <td>   20.847</td>\n",
              "</tr>\n",
              "<tr>\n",
              "  <th>ma.L3</th>  <td>    0.1684</td> <td>   15.637</td> <td>    0.011</td> <td> 0.991</td> <td>  -30.479</td> <td>   30.815</td>\n",
              "</tr>\n",
              "<tr>\n",
              "  <th>ma.L4</th>  <td>    0.7322</td> <td>    8.984</td> <td>    0.082</td> <td> 0.935</td> <td>  -16.875</td> <td>   18.340</td>\n",
              "</tr>\n",
              "<tr>\n",
              "  <th>ma.L5</th>  <td>   -0.5406</td> <td>   10.860</td> <td>   -0.050</td> <td> 0.960</td> <td>  -21.825</td> <td>   20.744</td>\n",
              "</tr>\n",
              "<tr>\n",
              "  <th>sigma2</th> <td> 1.447e+04</td> <td> 2.84e+05</td> <td>    0.051</td> <td> 0.959</td> <td>-5.42e+05</td> <td> 5.71e+05</td>\n",
              "</tr>\n",
              "</table>\n",
              "<table class=\"simpletable\">\n",
              "<tr>\n",
              "  <th>Ljung-Box (L1) (Q):</th>     <td>0.76</td> <th>  Jarque-Bera (JB):  </th> <td>35.64</td>\n",
              "</tr>\n",
              "<tr>\n",
              "  <th>Prob(Q):</th>                <td>0.38</td> <th>  Prob(JB):          </th> <td>0.00</td> \n",
              "</tr>\n",
              "<tr>\n",
              "  <th>Heteroskedasticity (H):</th> <td>0.26</td> <th>  Skew:              </th> <td>0.91</td> \n",
              "</tr>\n",
              "<tr>\n",
              "  <th>Prob(H) (two-sided):</th>    <td>0.00</td> <th>  Kurtosis:          </th> <td>5.27</td> \n",
              "</tr>\n",
              "</table><br/><br/>Warnings:<br/>[1] Covariance matrix calculated using the outer product of gradients (complex-step).<br/>[2] Covariance matrix is singular or near-singular, with condition number 5.18e+14. Standard errors may be unstable."
            ]
          },
          "metadata": {},
          "execution_count": 28
        }
      ]
    },
    {
      "cell_type": "code",
      "source": [
        "#if the predicted values dont have date values as index, you will have to uncomment the following two commented lines to plot a graph\n",
        "#index_future_dates=pd.date_range(start='2018-12-01',end='2018-12-30')\n",
        "\n",
        "\n",
        "start=len(train)\n",
        "end=len(train)+len(test)-1\n",
        "pred=model.predict(start=start,end=end,typ='levels').rename('ARIMA')\n",
        "#pred.index=index_future_dates"
      ],
      "metadata": {
        "id": "A27gPD-8mUcX"
      },
      "id": "A27gPD-8mUcX",
      "execution_count": null,
      "outputs": []
    },
    {
      "cell_type": "code",
      "source": [
        "len(train)"
      ],
      "metadata": {
        "colab": {
          "base_uri": "https://localhost:8080/"
        },
        "id": "f5Q_2t_-x4ZG",
        "outputId": "82535588-5357-408a-933e-7dfcbe93f95c"
      },
      "id": "f5Q_2t_-x4ZG",
      "execution_count": null,
      "outputs": [
        {
          "output_type": "execute_result",
          "data": {
            "text/plain": [
              "102"
            ]
          },
          "metadata": {},
          "execution_count": 36
        }
      ]
    },
    {
      "cell_type": "code",
      "source": [
        "train['Price'].plot(legend=True,label=\"Train\")\n",
        "test['Price'].plot(legend=True,label='Test')\n",
        "pred.plot(legend=True,label='Predicted')\n",
        "plt.title('ARIMA')\n",
        "plt.show()"
      ],
      "metadata": {
        "id": "pXPX4G1PGT8v",
        "colab": {
          "base_uri": "https://localhost:8080/",
          "height": 295
        },
        "outputId": "cb7ee2c0-1c4d-4af9-f12f-6f0bc5570864"
      },
      "id": "pXPX4G1PGT8v",
      "execution_count": null,
      "outputs": [
        {
          "output_type": "display_data",
          "data": {
            "text/plain": [
              "<Figure size 432x288 with 1 Axes>"
            ],
            "image/png": "[encoded data removed]"
          },
          "metadata": {
            "needs_background": "light"
          }
        }
      ]
    },
    {
      "cell_type": "code",
      "source": [
        "from sklearn.metrics import mean_squared_error\n",
        "from math import sqrt\n",
        "mse_arima=(mean_squared_error(pred,test['Price']))\n",
        "rmse_arima=sqrt(mean_squared_error(pred,test['Price']))\n",
        "rmse_arima"
      ],
      "metadata": {
        "id": "YYR8GFICmUhu",
        "colab": {
          "base_uri": "https://localhost:8080/"
        },
        "outputId": "b41d1ab0-84e9-4db7-e591-51a05f170794"
      },
      "id": "YYR8GFICmUhu",
      "execution_count": null,
      "outputs": [
        {
          "output_type": "execute_result",
          "data": {
            "text/plain": [
              "1370.6028691383033"
            ]
          },
          "metadata": {},
          "execution_count": 31
        }
      ]
    },
    {
      "cell_type": "code",
      "source": [
        "model_sarimax=sm.tsa.statespace.SARIMAX(train['Price'],order=(1,2,1),seasonal_order=(1,2,1,12))\n",
        "model_sarimax_fit=model_sarimax.fit()"
      ],
      "metadata": {
        "id": "Tcg8vwggmUkO"
      },
      "id": "Tcg8vwggmUkO",
      "execution_count": null,
      "outputs": []
    },
    {
      "cell_type": "code",
      "source": [
        "train.shape"
      ],
      "metadata": {
        "colab": {
          "base_uri": "https://localhost:8080/"
        },
        "id": "-Az_sqTpaIHf",
        "outputId": "25689faf-6264-4bc6-f9ef-4949773dc6ec"
      },
      "id": "-Az_sqTpaIHf",
      "execution_count": null,
      "outputs": [
        {
          "output_type": "execute_result",
          "data": {
            "text/plain": [
              "(102, 3)"
            ]
          },
          "metadata": {},
          "execution_count": 45
        }
      ]
    },
    {
      "cell_type": "code",
      "source": [
        "start=len(train)\n",
        "end=len(train)+len(test)-1\n",
        "forecast=model_sarimax_fit.predict(start=start,end=end,dynamic=True)\n"
      ],
      "metadata": {
        "id": "ljgooVApmUm4"
      },
      "id": "ljgooVApmUm4",
      "execution_count": null,
      "outputs": []
    },
    {
      "cell_type": "code",
      "source": [
        "train['Price'].plot(legend=True,label='Train')\n",
        "test['Price'].plot(legend=True,label='Test')\n",
        "forecast.plot(legend=True,label=\"Predicted\")\n",
        "plt.title('SARIMA')\n",
        "plt.show()"
      ],
      "metadata": {
        "id": "2aF-J7zISvz0",
        "colab": {
          "base_uri": "https://localhost:8080/",
          "height": 295
        },
        "outputId": "d10bb10b-3aa5-44d2-8137-47ff0cd95d9a"
      },
      "id": "2aF-J7zISvz0",
      "execution_count": null,
      "outputs": [
        {
          "output_type": "display_data",
          "data": {
            "text/plain": [
              "<Figure size 432x288 with 1 Axes>"
            ],
            "image/png": "[encoded data removed]"
          },
          "metadata": {
            "needs_background": "light"
          }
        }
      ]
    },
    {
      "cell_type": "code",
      "source": [
        "from sklearn.metrics import mean_squared_error\n",
        "from math import sqrt\n",
        "sarima_mse=(mean_squared_error(forecast,test['Price']))\n",
        "sarima_rmse=sqrt(mean_squared_error(forecast,test['Price']))\n"
      ],
      "metadata": {
        "id": "jGNS1tt0Yn_e"
      },
      "id": "jGNS1tt0Yn_e",
      "execution_count": null,
      "outputs": []
    },
    {
      "cell_type": "code",
      "source": [
        "index_future_dates=pd.date_range(start='2021-12-02',end='2022-02-01')\n",
        "pred=model_sarimax_fit.predict(start=len(df_new),end=len(df_new)+30,typ='levels').rename('ARIMA Predictions')\n",
        "#print(comp_pred)\n",
        "#pred.index=index_future_dates\n",
        "pred.plot(legend=True,label=\"Predicted SARIMA\")\n",
        "df_new['Price'].plot(legend=True)"
      ],
      "metadata": {
        "id": "BPbQTjIhGWbc",
        "colab": {
          "base_uri": "https://localhost:8080/",
          "height": 296
        },
        "outputId": "dd414b2b-2f69-4e8f-ec78-60dd175c24b9"
      },
      "id": "BPbQTjIhGWbc",
      "execution_count": null,
      "outputs": [
        {
          "output_type": "execute_result",
          "data": {
            "text/plain": [
              "<matplotlib.axes._subplots.AxesSubplot at 0x7fe33bc46210>"
            ]
          },
          "metadata": {},
          "execution_count": 35
        },
        {
          "output_type": "display_data",
          "data": {
            "text/plain": [
              "<Figure size 432x288 with 1 Axes>"
            ],
            "image/png": "[encoded data removed]"
          },
          "metadata": {
            "needs_background": "light"
          }
        }
      ]
    },
    {
      "cell_type": "code",
      "source": [
        "df_new.tail()"
      ],
      "metadata": {
        "id": "h9D0jiR5GWeg",
        "colab": {
          "base_uri": "https://localhost:8080/",
          "height": 238
        },
        "outputId": "3fae4344-326f-4efe-e924-717420a43eff"
      },
      "id": "h9D0jiR5GWeg",
      "execution_count": null,
      "outputs": [
        {
          "output_type": "execute_result",
          "data": {
            "text/plain": [
              "            Price     Forecast\n",
              "Dates                         \n",
              "2021-08-01   4788  3144.841614\n",
              "2021-09-01   4704  3141.189583\n",
              "2021-10-01   4618  3143.184327\n",
              "2021-11-01   4761  3144.754962\n",
              "2021-12-01   4760  3145.795646"
            ],
            "text/html": [
              "\n",
              "  <div id=\"df-59054127-6cdb-46a5-a266-f057239a0b27\">\n",
              "    <div class=\"colab-df-container\">\n",
              "      <div>\n",
              "<style scoped>\n",
              "    .dataframe tbody tr th:only-of-type {\n",
              "        vertical-align: middle;\n",
              "    }\n",
              "\n",
              "    .dataframe tbody tr th {\n",
              "        vertical-align: top;\n",
              "    }\n",
              "\n",
              "    .dataframe thead th {\n",
              "        text-align: right;\n",
              "    }\n",
              "</style>\n",
              "<table border=\"1\" class=\"dataframe\">\n",
              "  <thead>\n",
              "    <tr style=\"text-align: right;\">\n",
              "      <th></th>\n",
              "      <th>Price</th>\n",
              "      <th>Forecast</th>\n",
              "    </tr>\n",
              "    <tr>\n",
              "      <th>Dates</th>\n",
              "      <th></th>\n",
              "      <th></th>\n",
              "    </tr>\n",
              "  </thead>\n",
              "  <tbody>\n",
              "    <tr>\n",
              "      <th>2021-08-01</th>\n",
              "      <td>4788</td>\n",
              "      <td>3144.841614</td>\n",
              "    </tr>\n",
              "    <tr>\n",
              "      <th>2021-09-01</th>\n",
              "      <td>4704</td>\n",
              "      <td>3141.189583</td>\n",
              "    </tr>\n",
              "    <tr>\n",
              "      <th>2021-10-01</th>\n",
              "      <td>4618</td>\n",
              "      <td>3143.184327</td>\n",
              "    </tr>\n",
              "    <tr>\n",
              "      <th>2021-11-01</th>\n",
              "      <td>4761</td>\n",
              "      <td>3144.754962</td>\n",
              "    </tr>\n",
              "    <tr>\n",
              "      <th>2021-12-01</th>\n",
              "      <td>4760</td>\n",
              "      <td>3145.795646</td>\n",
              "    </tr>\n",
              "  </tbody>\n",
              "</table>\n",
              "</div>\n",
              "      <button class=\"colab-df-convert\" onclick=\"convertToInteractive('df-59054127-6cdb-46a5-a266-f057239a0b27')\"\n",
              "              title=\"Convert this dataframe to an interactive table.\"\n",
              "              style=\"display:none;\">\n",
              "        \n",
              "  <svg xmlns=\"http://www.w3.org/2000/svg\" height=\"24px\"viewBox=\"0 0 24 24\"\n",
              "       width=\"24px\">\n",
              "    <path d=\"M0 0h24v24H0V0z\" fill=\"none\"/>\n",
              "    <path d=\"M18.56 5.44l.94 2.06.94-2.06 2.06-.94-2.06-.94-.94-2.06-.94 2.06-2.06.94zm-11 1L8.5 8.5l.94-2.06 2.06-.94-2.06-.94L8.5 2.5l-.94 2.06-2.06.94zm10 10l.94 2.06.94-2.06 2.06-.94-2.06-.94-.94-2.06-.94 2.06-2.06.94z\"/><path d=\"M17.41 7.96l-1.37-1.37c-.4-.4-.92-.59-1.43-.59-.52 0-1.04.2-1.43.59L10.3 9.45l-7.72 7.72c-.78.78-.78 2.05 0 2.83L4 21.41c.39.39.9.59 1.41.59.51 0 1.02-.2 1.41-.59l7.78-7.78 2.81-2.81c.8-.78.8-2.07 0-2.86zM5.41 20L4 18.59l7.72-7.72 1.47 1.35L5.41 20z\"/>\n",
              "  </svg>\n",
              "      </button>\n",
              "      \n",
              "  <style>\n",
              "    .colab-df-container {\n",
              "      display:flex;\n",
              "      flex-wrap:wrap;\n",
              "      gap: 12px;\n",
              "    }\n",
              "\n",
              "    .colab-df-convert {\n",
              "      background-color: #E8F0FE;\n",
              "      border: none;\n",
              "      border-radius: 50%;\n",
              "      cursor: pointer;\n",
              "      display: none;\n",
              "      fill: #1967D2;\n",
              "      height: 32px;\n",
              "      padding: 0 0 0 0;\n",
              "      width: 32px;\n",
              "    }\n",
              "\n",
              "    .colab-df-convert:hover {\n",
              "      background-color: #E2EBFA;\n",
              "      box-shadow: 0px 1px 2px rgba(60, 64, 67, 0.3), 0px 1px 3px 1px rgba(60, 64, 67, 0.15);\n",
              "      fill: #174EA6;\n",
              "    }\n",
              "\n",
              "    [theme=dark] .colab-df-convert {\n",
              "      background-color: #3B4455;\n",
              "      fill: #D2E3FC;\n",
              "    }\n",
              "\n",
              "    [theme=dark] .colab-df-convert:hover {\n",
              "      background-color: #434B5C;\n",
              "      box-shadow: 0px 1px 3px 1px rgba(0, 0, 0, 0.15);\n",
              "      filter: drop-shadow(0px 1px 2px rgba(0, 0, 0, 0.3));\n",
              "      fill: #FFFFFF;\n",
              "    }\n",
              "  </style>\n",
              "\n",
              "      <script>\n",
              "        const buttonEl =\n",
              "          document.querySelector('#df-59054127-6cdb-46a5-a266-f057239a0b27 button.colab-df-convert');\n",
              "        buttonEl.style.display =\n",
              "          google.colab.kernel.accessAllowed ? 'block' : 'none';\n",
              "\n",
              "        async function convertToInteractive(key) {\n",
              "          const element = document.querySelector('#df-59054127-6cdb-46a5-a266-f057239a0b27');\n",
              "          const dataTable =\n",
              "            await google.colab.kernel.invokeFunction('convertToInteractive',\n",
              "                                                     [key], {});\n",
              "          if (!dataTable) return;\n",
              "\n",
              "          const docLinkHtml = 'Like what you see? Visit the ' +\n",
              "            '<a target=\"_blank\" href=https://colab.research.google.com/notebooks/data_table.ipynb>data table notebook</a>'\n",
              "            + ' to learn more about interactive tables.';\n",
              "          element.innerHTML = '';\n",
              "          dataTable['output_type'] = 'display_data';\n",
              "          await google.colab.output.renderOutput(dataTable, element);\n",
              "          const docLink = document.createElement('div');\n",
              "          docLink.innerHTML = docLinkHtml;\n",
              "          element.appendChild(docLink);\n",
              "        }\n",
              "      </script>\n",
              "    </div>\n",
              "  </div>\n",
              "  "
            ]
          },
          "metadata": {},
          "execution_count": 101
        }
      ]
    },
    {
      "cell_type": "code",
      "source": [
        ""
      ],
      "metadata": {
        "id": "lrkVACuUGWhV"
      },
      "id": "lrkVACuUGWhV",
      "execution_count": null,
      "outputs": []
    },
    {
      "cell_type": "code",
      "source": [
        ""
      ],
      "metadata": {
        "id": "8X3m-ZeESUMG"
      },
      "id": "8X3m-ZeESUMG",
      "execution_count": null,
      "outputs": []
    },
    {
      "cell_type": "code",
      "source": [
        "test['Price'].mean()"
      ],
      "metadata": {
        "id": "ixbad9Kgocg3"
      },
      "id": "ixbad9Kgocg3",
      "execution_count": null,
      "outputs": []
    },
    {
      "cell_type": "code",
      "source": [
        "df_new.tail()\n"
      ],
      "metadata": {
        "id": "IN5mFbXBam1Y"
      },
      "id": "IN5mFbXBam1Y",
      "execution_count": null,
      "outputs": []
    },
    {
      "cell_type": "code",
      "source": [
        "plt.figure(figsize=(20,4))\n",
        "\n",
        "plt.subplot(1, 2, 1)\n",
        "\n",
        "plt.plot(pred)\n",
        "plt.plot(test['Price'])\n",
        "plt.title('ARIMA')\n",
        "\n",
        "plt.subplot(1, 2, 2)\n",
        "\n",
        "plt.plot(forecast)\n",
        "plt.plot(test['Price'])\n",
        "plt.title('SARIMA')\n",
        "\n",
        "plt.show()"
      ],
      "metadata": {
        "id": "BPd29YXIocl9"
      },
      "id": "BPd29YXIocl9",
      "execution_count": null,
      "outputs": []
    },
    {
      "cell_type": "code",
      "source": [
        ""
      ],
      "metadata": {
        "id": "ongWikwLFvZW"
      },
      "id": "ongWikwLFvZW",
      "execution_count": null,
      "outputs": []
    },
    {
      "cell_type": "code",
      "source": [
        "pred.plot(legend=True,label='SARIMA')\n",
        "test['Price'].plot(legend=True,label='Price')\n",
        "plt.title('SARIMA')"
      ],
      "metadata": {
        "id": "_DI0VFe0Fvbs"
      },
      "id": "_DI0VFe0Fvbs",
      "execution_count": null,
      "outputs": []
    },
    {
      "cell_type": "code",
      "source": [
        "from statsmodels.tsa.holtwinters import SimpleExpSmoothing # SES\n",
        "from statsmodels.tsa.holtwinters import Holt # Holts Exponential Smoothing\n",
        "from statsmodels.tsa.holtwinters import ExponentialSmoothing \n"
      ],
      "metadata": {
        "id": "0WgC1IodMx9D"
      },
      "execution_count": null,
      "outputs": [],
      "id": "0WgC1IodMx9D"
    },
    {
      "cell_type": "code",
      "source": [
        ""
      ],
      "metadata": {
        "id": "tyRkV8LZk7nL"
      },
      "id": "tyRkV8LZk7nL",
      "execution_count": null,
      "outputs": []
    },
    {
      "cell_type": "code",
      "source": [
        ""
      ],
      "metadata": {
        "id": "G4-pSa5Kk7p1"
      },
      "id": "G4-pSa5Kk7p1",
      "execution_count": null,
      "outputs": []
    },
    {
      "cell_type": "code",
      "source": [
        "Train = df_new.head(100)\n",
        "Test = df_new.tail(32)"
      ],
      "metadata": {
        "id": "vlLdnbJQM2bx"
      },
      "execution_count": null,
      "outputs": [],
      "id": "vlLdnbJQM2bx"
    },
    {
      "cell_type": "code",
      "source": [
        "Train.shape,Test.shape"
      ],
      "metadata": {
        "id": "G9eGUcwxBBfM",
        "colab": {
          "base_uri": "https://localhost:8080/"
        },
        "outputId": "4998b661-9946-4a4a-a7dd-0c5e52486b15"
      },
      "id": "G9eGUcwxBBfM",
      "execution_count": null,
      "outputs": [
        {
          "output_type": "execute_result",
          "data": {
            "text/plain": [
              "((100, 1), (32, 1))"
            ]
          },
          "metadata": {},
          "execution_count": 16
        }
      ]
    },
    {
      "cell_type": "code",
      "source": [
        "Test.index"
      ],
      "metadata": {
        "id": "LiahlRe0BX2y"
      },
      "id": "LiahlRe0BX2y",
      "execution_count": null,
      "outputs": []
    },
    {
      "cell_type": "code",
      "source": [
        "df_new.shape"
      ],
      "metadata": {
        "id": "t9llhqR7M6qL",
        "colab": {
          "base_uri": "https://localhost:8080/"
        },
        "outputId": "d76b75be-9f13-4bf9-ba23-417301c40fab"
      },
      "execution_count": null,
      "outputs": [
        {
          "output_type": "execute_result",
          "data": {
            "text/plain": [
              "(132, 1)"
            ]
          },
          "metadata": {},
          "execution_count": 17
        }
      ],
      "id": "t9llhqR7M6qL"
    },
    {
      "cell_type": "code",
      "source": [
        "def RMSE(org, pred):\n",
        "    rmse=np.sqrt(np.mean((np.array(org)-np.array(pred))**2))\n",
        "    return round(rmse)"
      ],
      "metadata": {
        "id": "w00GEVZf9w_V"
      },
      "execution_count": null,
      "outputs": [],
      "id": "w00GEVZf9w_V"
    },
    {
      "cell_type": "code",
      "source": [
        "def MSE(org, pred):\n",
        "    mse=(np.mean((np.array(org)-np.array(pred))**2))\n",
        "    return round(mse)"
      ],
      "metadata": {
        "id": "pbpxcKmJ6sQ5"
      },
      "id": "pbpxcKmJ6sQ5",
      "execution_count": null,
      "outputs": []
    },
    {
      "cell_type": "code",
      "source": [
        "ses_model = SimpleExpSmoothing(Train[\"Price\"]).fit()\n",
        "pred_ses = ses_model.predict(start = Test.index[0],end = Test.index[-1])\n",
        "ses_model_MSE = MSE(Test.Price, pred_ses)\n",
        "ses_model_RMSE = RMSE(Test.Price, pred_ses)\n",
        "print(ses_model_MSE)"
      ],
      "metadata": {
        "id": "U-QL2HcH9xB7",
        "colab": {
          "base_uri": "https://localhost:8080/"
        },
        "outputId": "75246e59-7c04-418a-cbfb-f2793f3ecf7f"
      },
      "execution_count": null,
      "outputs": [
        {
          "output_type": "stream",
          "name": "stdout",
          "text": [
            "1836692\n"
          ]
        }
      ],
      "id": "U-QL2HcH9xB7"
    },
    {
      "cell_type": "code",
      "source": [
        "hw_model = Holt(Train[\"Price\"]).fit()\n",
        "pred_hw = hw_model.predict(start = Test.index[0],end = Test.index[-1])\n",
        "hw_model_RMSE = RMSE(Test.Price, pred_hw)\n",
        "hw_model_MSE = MSE(Test.Price, pred_hw)\n",
        "hw_model_MSE"
      ],
      "metadata": {
        "id": "0j7wJCCk9xEh",
        "colab": {
          "base_uri": "https://localhost:8080/"
        },
        "outputId": "f45ce9d6-301f-4c8d-9707-aabfe13aba04"
      },
      "execution_count": null,
      "outputs": [
        {
          "output_type": "execute_result",
          "data": {
            "text/plain": [
              "1170927"
            ]
          },
          "metadata": {},
          "execution_count": 21
        }
      ],
      "id": "0j7wJCCk9xEh"
    },
    {
      "cell_type": "code",
      "source": [
        "hwe_model_add_add = ExponentialSmoothing(Train[\"Price\"],seasonal=\"add\",trend=\"add\",seasonal_periods=36).fit()\n",
        "pred_hwe_add_add = hwe_model_add_add.predict(start = Test.index[0],end = Test.index[-1])\n",
        "hwe_add_add_model_RMSE = RMSE(Test.Price, pred_hwe_add_add)\n",
        "hwe_add_add_model_MSE = MSE(Test.Price, pred_hwe_add_add)\n"
      ],
      "metadata": {
        "id": "z7bVH8BT9xG7"
      },
      "execution_count": null,
      "outputs": [],
      "id": "z7bVH8BT9xG7"
    },
    {
      "cell_type": "code",
      "source": [
        "hwe_model_mul_add = ExponentialSmoothing(Train[\"Price\"],seasonal=\"mul\",trend=\"mul\",seasonal_periods=48).fit() \n",
        "pred_hwe_mul_add = hwe_model_mul_add.predict(start = Test.index[0],end = Test.index[-1])\n",
        "hwe_model_mul_add_model_RMSE = RMSE(Test.Price, pred_hwe_mul_add)\n",
        "hwe_model_mul_add_model_MSE = MSE(Test.Price, pred_hwe_mul_add)\n"
      ],
      "metadata": {
        "id": "AwHTZ9Fy9xJl",
        "colab": {
          "base_uri": "https://localhost:8080/"
        },
        "outputId": "f75277ed-1175-42d8-c539-454c505a1d99"
      },
      "execution_count": null,
      "outputs": [
        {
          "output_type": "stream",
          "name": "stderr",
          "text": [
            "/usr/local/lib/python3.7/dist-packages/statsmodels/tsa/holtwinters/model.py:83: RuntimeWarning: overflow encountered in matmul\n",
            "  return err.T @ err\n"
          ]
        }
      ],
      "id": "AwHTZ9Fy9xJl"
    },
    {
      "cell_type": "code",
      "source": [
        "plt.figure(figsize=(15,8))\n",
        "\n",
        "plt.subplot(2, 2, 1)\n",
        "\n",
        "\n",
        "plt.plot(Train[\"Price\"],label=Train)\n",
        "plt.plot(Test[\"Price\"],label=Test)\n",
        "plt.plot(pred_ses,label='Predicted')\n",
        "plt.plot(legend=True)\n",
        "plt.title('Simple Exponential Smoothing')\n",
        "\n",
        "\n",
        "plt.subplot(2, 2, 2)\n",
        "\n",
        "plt.plot(pred_hw)\n",
        "plt.plot(Train[\"Price\"])\n",
        "plt.plot(Test[\"Price\"])\n",
        "plt.title('Holt Exponential Smoothing')\n",
        "\n",
        "plt.subplot(2, 2, 3)\n",
        "\n",
        "plt.plot(pred_hwe_add_add)\n",
        "plt.plot(Train[\"Price\"])\n",
        "plt.plot(Test[\"Price\"])\n",
        "plt.title('Exponential Smoothing with additive trend')\n",
        "\n",
        "plt.subplot(2, 2, 4)\n",
        "\n",
        "plt.plot(pred_hwe_mul_add)\n",
        "plt.plot(Train[\"Price\"])\n",
        "plt.plot(Test[\"Price\"])\n",
        "plt.title('Exponential Smoothing with multiplicative trend')\n",
        "\n",
        "plt.show()"
      ],
      "metadata": {
        "id": "utrjqjjcBUol",
        "colab": {
          "base_uri": "https://localhost:8080/",
          "height": 499
        },
        "outputId": "4d118975-609e-41b4-d329-2393c85254a4"
      },
      "id": "utrjqjjcBUol",
      "execution_count": null,
      "outputs": [
        {
          "output_type": "display_data",
          "data": {
            "text/plain": [
              "<Figure size 1080x576 with 4 Axes>"
            ],
            "image/png": "[encoded data removed]"
          },
          "metadata": {
            "needs_background": "light"
          }
        }
      ]
    },
    {
      "cell_type": "code",
      "source": [
        "df_new.tail()"
      ],
      "metadata": {
        "id": "JELnEzhpBUrY",
        "colab": {
          "base_uri": "https://localhost:8080/",
          "height": 238
        },
        "outputId": "59fa68c5-e797-4d47-8658-e219082c8998"
      },
      "id": "JELnEzhpBUrY",
      "execution_count": null,
      "outputs": [
        {
          "output_type": "execute_result",
          "data": {
            "text/plain": [
              "            Price        CMA30       EWMA30\n",
              "Dates                                      \n",
              "2021-08-01   4788  3153.640625  4336.466465\n",
              "2021-09-01   4704  3165.658915  4360.182659\n",
              "2021-10-01   4618  3176.830769  4376.818892\n",
              "2021-11-01   4761  3188.923664  4401.608751\n",
              "2021-12-01   4760  3200.825758  4424.734241"
            ],
            "text/html": [
              "\n",
              "  <div id=\"df-eaa21bc2-7e74-4edc-b88f-d6cab578563e\">\n",
              "    <div class=\"colab-df-container\">\n",
              "      <div>\n",
              "<style scoped>\n",
              "    .dataframe tbody tr th:only-of-type {\n",
              "        vertical-align: middle;\n",
              "    }\n",
              "\n",
              "    .dataframe tbody tr th {\n",
              "        vertical-align: top;\n",
              "    }\n",
              "\n",
              "    .dataframe thead th {\n",
              "        text-align: right;\n",
              "    }\n",
              "</style>\n",
              "<table border=\"1\" class=\"dataframe\">\n",
              "  <thead>\n",
              "    <tr style=\"text-align: right;\">\n",
              "      <th></th>\n",
              "      <th>Price</th>\n",
              "      <th>CMA30</th>\n",
              "      <th>EWMA30</th>\n",
              "    </tr>\n",
              "    <tr>\n",
              "      <th>Dates</th>\n",
              "      <th></th>\n",
              "      <th></th>\n",
              "      <th></th>\n",
              "    </tr>\n",
              "  </thead>\n",
              "  <tbody>\n",
              "    <tr>\n",
              "      <th>2021-08-01</th>\n",
              "      <td>4788</td>\n",
              "      <td>3153.640625</td>\n",
              "      <td>4336.466465</td>\n",
              "    </tr>\n",
              "    <tr>\n",
              "      <th>2021-09-01</th>\n",
              "      <td>4704</td>\n",
              "      <td>3165.658915</td>\n",
              "      <td>4360.182659</td>\n",
              "    </tr>\n",
              "    <tr>\n",
              "      <th>2021-10-01</th>\n",
              "      <td>4618</td>\n",
              "      <td>3176.830769</td>\n",
              "      <td>4376.818892</td>\n",
              "    </tr>\n",
              "    <tr>\n",
              "      <th>2021-11-01</th>\n",
              "      <td>4761</td>\n",
              "      <td>3188.923664</td>\n",
              "      <td>4401.608751</td>\n",
              "    </tr>\n",
              "    <tr>\n",
              "      <th>2021-12-01</th>\n",
              "      <td>4760</td>\n",
              "      <td>3200.825758</td>\n",
              "      <td>4424.734241</td>\n",
              "    </tr>\n",
              "  </tbody>\n",
              "</table>\n",
              "</div>\n",
              "      <button class=\"colab-df-convert\" onclick=\"convertToInteractive('df-eaa21bc2-7e74-4edc-b88f-d6cab578563e')\"\n",
              "              title=\"Convert this dataframe to an interactive table.\"\n",
              "              style=\"display:none;\">\n",
              "        \n",
              "  <svg xmlns=\"http://www.w3.org/2000/svg\" height=\"24px\"viewBox=\"0 0 24 24\"\n",
              "       width=\"24px\">\n",
              "    <path d=\"M0 0h24v24H0V0z\" fill=\"none\"/>\n",
              "    <path d=\"M18.56 5.44l.94 2.06.94-2.06 2.06-.94-2.06-.94-.94-2.06-.94 2.06-2.06.94zm-11 1L8.5 8.5l.94-2.06 2.06-.94-2.06-.94L8.5 2.5l-.94 2.06-2.06.94zm10 10l.94 2.06.94-2.06 2.06-.94-2.06-.94-.94-2.06-.94 2.06-2.06.94z\"/><path d=\"M17.41 7.96l-1.37-1.37c-.4-.4-.92-.59-1.43-.59-.52 0-1.04.2-1.43.59L10.3 9.45l-7.72 7.72c-.78.78-.78 2.05 0 2.83L4 21.41c.39.39.9.59 1.41.59.51 0 1.02-.2 1.41-.59l7.78-7.78 2.81-2.81c.8-.78.8-2.07 0-2.86zM5.41 20L4 18.59l7.72-7.72 1.47 1.35L5.41 20z\"/>\n",
              "  </svg>\n",
              "      </button>\n",
              "      \n",
              "  <style>\n",
              "    .colab-df-container {\n",
              "      display:flex;\n",
              "      flex-wrap:wrap;\n",
              "      gap: 12px;\n",
              "    }\n",
              "\n",
              "    .colab-df-convert {\n",
              "      background-color: #E8F0FE;\n",
              "      border: none;\n",
              "      border-radius: 50%;\n",
              "      cursor: pointer;\n",
              "      display: none;\n",
              "      fill: #1967D2;\n",
              "      height: 32px;\n",
              "      padding: 0 0 0 0;\n",
              "      width: 32px;\n",
              "    }\n",
              "\n",
              "    .colab-df-convert:hover {\n",
              "      background-color: #E2EBFA;\n",
              "      box-shadow: 0px 1px 2px rgba(60, 64, 67, 0.3), 0px 1px 3px 1px rgba(60, 64, 67, 0.15);\n",
              "      fill: #174EA6;\n",
              "    }\n",
              "\n",
              "    [theme=dark] .colab-df-convert {\n",
              "      background-color: #3B4455;\n",
              "      fill: #D2E3FC;\n",
              "    }\n",
              "\n",
              "    [theme=dark] .colab-df-convert:hover {\n",
              "      background-color: #434B5C;\n",
              "      box-shadow: 0px 1px 3px 1px rgba(0, 0, 0, 0.15);\n",
              "      filter: drop-shadow(0px 1px 2px rgba(0, 0, 0, 0.3));\n",
              "      fill: #FFFFFF;\n",
              "    }\n",
              "  </style>\n",
              "\n",
              "      <script>\n",
              "        const buttonEl =\n",
              "          document.querySelector('#df-eaa21bc2-7e74-4edc-b88f-d6cab578563e button.colab-df-convert');\n",
              "        buttonEl.style.display =\n",
              "          google.colab.kernel.accessAllowed ? 'block' : 'none';\n",
              "\n",
              "        async function convertToInteractive(key) {\n",
              "          const element = document.querySelector('#df-eaa21bc2-7e74-4edc-b88f-d6cab578563e');\n",
              "          const dataTable =\n",
              "            await google.colab.kernel.invokeFunction('convertToInteractive',\n",
              "                                                     [key], {});\n",
              "          if (!dataTable) return;\n",
              "\n",
              "          const docLinkHtml = 'Like what you see? Visit the ' +\n",
              "            '<a target=\"_blank\" href=https://colab.research.google.com/notebooks/data_table.ipynb>data table notebook</a>'\n",
              "            + ' to learn more about interactive tables.';\n",
              "          element.innerHTML = '';\n",
              "          dataTable['output_type'] = 'display_data';\n",
              "          await google.colab.output.renderOutput(dataTable, element);\n",
              "          const docLink = document.createElement('div');\n",
              "          docLink.innerHTML = docLinkHtml;\n",
              "          element.appendChild(docLink);\n",
              "        }\n",
              "      </script>\n",
              "    </div>\n",
              "  </div>\n",
              "  "
            ]
          },
          "metadata": {},
          "execution_count": 33
        }
      ]
    },
    {
      "cell_type": "code",
      "source": [
        "\n",
        "# Simple Moving Average\n",
        "df_new1 = df_new.copy()\n",
        "df_new1['SMA30'] = df_new1['Price'].rolling(12).mean()\n",
        "df_new1.dropna(inplace=True)\n",
        "\n",
        "\n",
        "\n",
        "# Cumulative Moving Average\n",
        "df_new['CMA30'] = df_new['Price'].expanding().mean()\n",
        "# Exponential Moving Average\n",
        "df_new['EWMA30'] = df_new['Price'].ewm(span=30).mean()\n",
        "\n",
        "\n",
        "\n",
        "\n"
      ],
      "metadata": {
        "id": "rpbFm8_P9xRu"
      },
      "execution_count": null,
      "outputs": [],
      "id": "rpbFm8_P9xRu"
    },
    {
      "cell_type": "code",
      "source": [
        "mse_model_SMA = MSE(df_new1['Price'], df_new1['SMA30'])\n",
        "rmse_model_SMA = RMSE(df_new1['Price'], df_new1['SMA30'])\n",
        "\n",
        "mse_model_CMA = MSE(df_new['Price'], df_new['CMA30'])\n",
        "rmse_model_CMA = RMSE(df_new['Price'], df_new['CMA30'])\n",
        "\n",
        "mse_model_EMA = MSE(df_new['Price'], df_new['EWMA30'])\n",
        "rmse_model_EMA = RMSE(df_new['Price'], df_new['EWMA30'])\n"
      ],
      "metadata": {
        "id": "KvYsFJcVCfpi"
      },
      "id": "KvYsFJcVCfpi",
      "execution_count": null,
      "outputs": []
    },
    {
      "cell_type": "code",
      "source": [
        "\n",
        "# Simple Moving Average\n",
        "plt.figure(figsize=(20,5))\n",
        "plt.subplot(1, 3, 1)\n",
        "plt.plot(df_new1['SMA30'],label='Simple Moving Average')\n",
        "plt.plot(df_new1['Price'],label='Actual Price')\n",
        "plt.legend(loc=\"upper left\")\n",
        "\n",
        "plt.subplot(1, 3, 2)\n",
        "plt.plot(df_new['CMA30'],label='Cumulative Moving Average')\n",
        "plt.plot(df_new['Price'],label='Actual Price')\n",
        "plt.legend(loc=\"upper left\")\n",
        "\n",
        "plt.subplot(1, 3, 3)\n",
        "plt.plot(df_new['EWMA30'],label='Exponential Moving Average')\n",
        "plt.plot(df_new['Price'],label='Actual Price')\n",
        "plt.legend(loc=\"upper left\")\n",
        "\n",
        "plt.show()"
      ],
      "metadata": {
        "id": "9LO2E2Zv7Hm1",
        "colab": {
          "base_uri": "https://localhost:8080/",
          "height": 321
        },
        "outputId": "4e0d7a3d-5d0b-4747-b6df-2d9142e65420"
      },
      "id": "9LO2E2Zv7Hm1",
      "execution_count": null,
      "outputs": [
        {
          "output_type": "display_data",
          "data": {
            "text/plain": [
              "<Figure size 1440x360 with 3 Axes>"
            ],
            "image/png": "[encoded data removed]"
          },
          "metadata": {
            "needs_background": "light"
          }
        }
      ]
    },
    {
      "cell_type": "code",
      "source": [
        "(mse_model_SMA)\n",
        "ses_model_MSE\n"
      ],
      "metadata": {
        "id": "EKH1nq_R7Hpc"
      },
      "id": "EKH1nq_R7Hpc",
      "execution_count": null,
      "outputs": []
    },
    {
      "cell_type": "code",
      "source": [
        "dict= {'RMSE':[rmse_model_SMA,rmse_model_CMA,sarima_rmse,ses_model_RMSE,hw_model_RMSE,hwe_add_add_model_RMSE,hwe_model_mul_add_model_RMSE,rmse_arima,rmse_model_EMA],  \n",
        "      'MSE':[round(mse_model_SMA),mse_model_CMA,mse_model_EMA,ses_model_MSE,hw_model_MSE,hwe_add_add_model_MSE,hwe_model_mul_add_model_MSE,mse_arima,sarima_mse]}\n",
        " \n",
        "df_allvalues=pd.DataFrame(dict,index=['Simple_MA','Cumulative_MA','Exponential_MA',\n",
        "                                      'SimpleExponSmothening','HoltExponSmothening','Smoothing with add trend','Smoothing with Mul trend',\n",
        "                                      'ARIMA','SARIMA'])    \n",
        "df_allvalues\n",
        "\n"
      ],
      "metadata": {
        "id": "Y8eiBcdfUHbz",
        "colab": {
          "base_uri": "https://localhost:8080/",
          "height": 331
        },
        "outputId": "f1f0683a-a6d1-45e8-d23e-2145f1d8128e"
      },
      "execution_count": null,
      "outputs": [
        {
          "output_type": "execute_result",
          "data": {
            "text/plain": [
              "                                 RMSE           MSE\n",
              "Simple_MA                  275.000000  7.575200e+04\n",
              "Cumulative_MA              769.000000  5.911060e+05\n",
              "Exponential_MA             672.631431  1.586770e+05\n",
              "SimpleExponSmothening     1355.000000  1.836692e+06\n",
              "HoltExponSmothening       1082.000000  1.170927e+06\n",
              "Smoothing with add trend   706.000000  4.991380e+05\n",
              "Smoothing with Mul trend   442.000000  1.953760e+05\n",
              "ARIMA                     1370.602869  1.878552e+06\n",
              "SARIMA                     398.000000  4.524330e+05"
            ],
            "text/html": [
              "\n",
              "  <div id=\"df-0f9bbfeb-e54e-48ba-9924-caebe0843d84\">\n",
              "    <div class=\"colab-df-container\">\n",
              "      <div>\n",
              "<style scoped>\n",
              "    .dataframe tbody tr th:only-of-type {\n",
              "        vertical-align: middle;\n",
              "    }\n",
              "\n",
              "    .dataframe tbody tr th {\n",
              "        vertical-align: top;\n",
              "    }\n",
              "\n",
              "    .dataframe thead th {\n",
              "        text-align: right;\n",
              "    }\n",
              "</style>\n",
              "<table border=\"1\" class=\"dataframe\">\n",
              "  <thead>\n",
              "    <tr style=\"text-align: right;\">\n",
              "      <th></th>\n",
              "      <th>RMSE</th>\n",
              "      <th>MSE</th>\n",
              "    </tr>\n",
              "  </thead>\n",
              "  <tbody>\n",
              "    <tr>\n",
              "      <th>Simple_MA</th>\n",
              "      <td>275.000000</td>\n",
              "      <td>7.575200e+04</td>\n",
              "    </tr>\n",
              "    <tr>\n",
              "      <th>Cumulative_MA</th>\n",
              "      <td>769.000000</td>\n",
              "      <td>5.911060e+05</td>\n",
              "    </tr>\n",
              "    <tr>\n",
              "      <th>Exponential_MA</th>\n",
              "      <td>672.631431</td>\n",
              "      <td>1.586770e+05</td>\n",
              "    </tr>\n",
              "    <tr>\n",
              "      <th>SimpleExponSmothening</th>\n",
              "      <td>1355.000000</td>\n",
              "      <td>1.836692e+06</td>\n",
              "    </tr>\n",
              "    <tr>\n",
              "      <th>HoltExponSmothening</th>\n",
              "      <td>1082.000000</td>\n",
              "      <td>1.170927e+06</td>\n",
              "    </tr>\n",
              "    <tr>\n",
              "      <th>Smoothing with add trend</th>\n",
              "      <td>706.000000</td>\n",
              "      <td>4.991380e+05</td>\n",
              "    </tr>\n",
              "    <tr>\n",
              "      <th>Smoothing with Mul trend</th>\n",
              "      <td>442.000000</td>\n",
              "      <td>1.953760e+05</td>\n",
              "    </tr>\n",
              "    <tr>\n",
              "      <th>ARIMA</th>\n",
              "      <td>1370.602869</td>\n",
              "      <td>1.878552e+06</td>\n",
              "    </tr>\n",
              "    <tr>\n",
              "      <th>SARIMA</th>\n",
              "      <td>398.000000</td>\n",
              "      <td>4.524330e+05</td>\n",
              "    </tr>\n",
              "  </tbody>\n",
              "</table>\n",
              "</div>\n",
              "      <button class=\"colab-df-convert\" onclick=\"convertToInteractive('df-0f9bbfeb-e54e-48ba-9924-caebe0843d84')\"\n",
              "              title=\"Convert this dataframe to an interactive table.\"\n",
              "              style=\"display:none;\">\n",
              "        \n",
              "  <svg xmlns=\"http://www.w3.org/2000/svg\" height=\"24px\"viewBox=\"0 0 24 24\"\n",
              "       width=\"24px\">\n",
              "    <path d=\"M0 0h24v24H0V0z\" fill=\"none\"/>\n",
              "    <path d=\"M18.56 5.44l.94 2.06.94-2.06 2.06-.94-2.06-.94-.94-2.06-.94 2.06-2.06.94zm-11 1L8.5 8.5l.94-2.06 2.06-.94-2.06-.94L8.5 2.5l-.94 2.06-2.06.94zm10 10l.94 2.06.94-2.06 2.06-.94-2.06-.94-.94-2.06-.94 2.06-2.06.94z\"/><path d=\"M17.41 7.96l-1.37-1.37c-.4-.4-.92-.59-1.43-.59-.52 0-1.04.2-1.43.59L10.3 9.45l-7.72 7.72c-.78.78-.78 2.05 0 2.83L4 21.41c.39.39.9.59 1.41.59.51 0 1.02-.2 1.41-.59l7.78-7.78 2.81-2.81c.8-.78.8-2.07 0-2.86zM5.41 20L4 18.59l7.72-7.72 1.47 1.35L5.41 20z\"/>\n",
              "  </svg>\n",
              "      </button>\n",
              "      \n",
              "  <style>\n",
              "    .colab-df-container {\n",
              "      display:flex;\n",
              "      flex-wrap:wrap;\n",
              "      gap: 12px;\n",
              "    }\n",
              "\n",
              "    .colab-df-convert {\n",
              "      background-color: #E8F0FE;\n",
              "      border: none;\n",
              "      border-radius: 50%;\n",
              "      cursor: pointer;\n",
              "      display: none;\n",
              "      fill: #1967D2;\n",
              "      height: 32px;\n",
              "      padding: 0 0 0 0;\n",
              "      width: 32px;\n",
              "    }\n",
              "\n",
              "    .colab-df-convert:hover {\n",
              "      background-color: #E2EBFA;\n",
              "      box-shadow: 0px 1px 2px rgba(60, 64, 67, 0.3), 0px 1px 3px 1px rgba(60, 64, 67, 0.15);\n",
              "      fill: #174EA6;\n",
              "    }\n",
              "\n",
              "    [theme=dark] .colab-df-convert {\n",
              "      background-color: #3B4455;\n",
              "      fill: #D2E3FC;\n",
              "    }\n",
              "\n",
              "    [theme=dark] .colab-df-convert:hover {\n",
              "      background-color: #434B5C;\n",
              "      box-shadow: 0px 1px 3px 1px rgba(0, 0, 0, 0.15);\n",
              "      filter: drop-shadow(0px 1px 2px rgba(0, 0, 0, 0.3));\n",
              "      fill: #FFFFFF;\n",
              "    }\n",
              "  </style>\n",
              "\n",
              "      <script>\n",
              "        const buttonEl =\n",
              "          document.querySelector('#df-0f9bbfeb-e54e-48ba-9924-caebe0843d84 button.colab-df-convert');\n",
              "        buttonEl.style.display =\n",
              "          google.colab.kernel.accessAllowed ? 'block' : 'none';\n",
              "\n",
              "        async function convertToInteractive(key) {\n",
              "          const element = document.querySelector('#df-0f9bbfeb-e54e-48ba-9924-caebe0843d84');\n",
              "          const dataTable =\n",
              "            await google.colab.kernel.invokeFunction('convertToInteractive',\n",
              "                                                     [key], {});\n",
              "          if (!dataTable) return;\n",
              "\n",
              "          const docLinkHtml = 'Like what you see? Visit the ' +\n",
              "            '<a target=\"_blank\" href=https://colab.research.google.com/notebooks/data_table.ipynb>data table notebook</a>'\n",
              "            + ' to learn more about interactive tables.';\n",
              "          element.innerHTML = '';\n",
              "          dataTable['output_type'] = 'display_data';\n",
              "          await google.colab.output.renderOutput(dataTable, element);\n",
              "          const docLink = document.createElement('div');\n",
              "          docLink.innerHTML = docLinkHtml;\n",
              "          element.appendChild(docLink);\n",
              "        }\n",
              "      </script>\n",
              "    </div>\n",
              "  </div>\n",
              "  "
            ]
          },
          "metadata": {},
          "execution_count": 51
        }
      ],
      "id": "Y8eiBcdfUHbz"
    },
    {
      "cell_type": "code",
      "source": [
        ""
      ],
      "metadata": {
        "id": "ETsHcCrkUHea"
      },
      "execution_count": null,
      "outputs": [],
      "id": "ETsHcCrkUHea"
    },
    {
      "cell_type": "code",
      "source": [
        ""
      ],
      "metadata": {
        "id": "iP6h1_VR0y6O"
      },
      "id": "iP6h1_VR0y6O",
      "execution_count": null,
      "outputs": []
    },
    {
      "cell_type": "code",
      "source": [
        ""
      ],
      "metadata": {
        "id": "JzCfagJx1ICo"
      },
      "id": "JzCfagJx1ICo",
      "execution_count": null,
      "outputs": []
    },
    {
      "cell_type": "code",
      "source": [
        ""
      ],
      "metadata": {
        "id": "WkrpvI4B1IGA"
      },
      "id": "WkrpvI4B1IGA",
      "execution_count": null,
      "outputs": []
    },
    {
      "cell_type": "code",
      "source": [
        ""
      ],
      "metadata": {
        "id": "kcYJyZVk1IIh"
      },
      "id": "kcYJyZVk1IIh",
      "execution_count": null,
      "outputs": []
    },
    {
      "cell_type": "code",
      "source": [
        ""
      ],
      "metadata": {
        "id": "jeaoYqVu1ILI"
      },
      "id": "jeaoYqVu1ILI",
      "execution_count": null,
      "outputs": []
    },
    {
      "cell_type": "code",
      "source": [
        ""
      ],
      "metadata": {
        "id": "udEeIx1x1IN5"
      },
      "id": "udEeIx1x1IN5",
      "execution_count": null,
      "outputs": []
    },
    {
      "cell_type": "code",
      "source": [
        ""
      ],
      "metadata": {
        "id": "UemEoNPj1IRE"
      },
      "id": "UemEoNPj1IRE",
      "execution_count": null,
      "outputs": []
    },
    {
      "cell_type": "code",
      "source": [
        ""
      ],
      "metadata": {
        "id": "53QEnSOw1IUA"
      },
      "id": "53QEnSOw1IUA",
      "execution_count": null,
      "outputs": []
    },
    {
      "cell_type": "code",
      "source": [
        ""
      ],
      "metadata": {
        "id": "2Teq2Aro1IW4"
      },
      "id": "2Teq2Aro1IW4",
      "execution_count": null,
      "outputs": []
    },
    {
      "cell_type": "code",
      "source": [
        ""
      ],
      "metadata": {
        "id": "eDWAc7l51Ib9"
      },
      "id": "eDWAc7l51Ib9",
      "execution_count": null,
      "outputs": []
    },
    {
      "cell_type": "code",
      "source": [
        ""
      ],
      "metadata": {
        "id": "N7HTZa_o1Ies"
      },
      "id": "N7HTZa_o1Ies",
      "execution_count": null,
      "outputs": []
    },
    {
      "cell_type": "code",
      "source": [
        ""
      ],
      "metadata": {
        "id": "iKAjqnoM1IkH"
      },
      "id": "iKAjqnoM1IkH",
      "execution_count": null,
      "outputs": []
    },
    {
      "cell_type": "code",
      "source": [
        ""
      ],
      "metadata": {
        "id": "IagFiQjt1IpH"
      },
      "id": "IagFiQjt1IpH",
      "execution_count": null,
      "outputs": []
    },
    {
      "cell_type": "code",
      "source": [
        ""
      ],
      "metadata": {
        "id": "LQ0LxO6I1IsG"
      },
      "id": "LQ0LxO6I1IsG",
      "execution_count": null,
      "outputs": []
    },
    {
      "cell_type": "code",
      "source": [
        ""
      ],
      "metadata": {
        "id": "tBZmW4A40y9F"
      },
      "id": "tBZmW4A40y9F",
      "execution_count": null,
      "outputs": []
    },
    {
      "cell_type": "code",
      "source": [
        ""
      ],
      "metadata": {
        "id": "pzQ-bi-Q0y_L"
      },
      "id": "pzQ-bi-Q0y_L",
      "execution_count": null,
      "outputs": []
    },
    {
      "cell_type": "code",
      "source": [
        ""
      ],
      "metadata": {
        "id": "H8IuSN5w0zBl"
      },
      "id": "H8IuSN5w0zBl",
      "execution_count": null,
      "outputs": []
    },
    {
      "cell_type": "code",
      "source": [
        ""
      ],
      "metadata": {
        "id": "BpOnaxqt0zEQ"
      },
      "id": "BpOnaxqt0zEQ",
      "execution_count": null,
      "outputs": []
    },
    {
      "cell_type": "code",
      "source": [
        ""
      ],
      "metadata": {
        "id": "evh_cHHU0zGr"
      },
      "id": "evh_cHHU0zGr",
      "execution_count": null,
      "outputs": []
    },
    {
      "cell_type": "code",
      "source": [
        ""
      ],
      "metadata": {
        "id": "L4tnTVCL0zJa"
      },
      "id": "L4tnTVCL0zJa",
      "execution_count": null,
      "outputs": []
    },
    {
      "cell_type": "code",
      "source": [
        ""
      ],
      "metadata": {
        "id": "1ZfcfTCtieQY"
      },
      "id": "1ZfcfTCtieQY",
      "execution_count": null,
      "outputs": []
    },
    {
      "cell_type": "code",
      "source": [
        ""
      ],
      "metadata": {
        "id": "UABKEGpsieTG"
      },
      "id": "UABKEGpsieTG",
      "execution_count": null,
      "outputs": []
    },
    {
      "cell_type": "code",
      "source": [
        ""
      ],
      "metadata": {
        "id": "Ml4-EA7gieWB"
      },
      "id": "Ml4-EA7gieWB",
      "execution_count": null,
      "outputs": []
    },
    {
      "cell_type": "code",
      "source": [
        ""
      ],
      "metadata": {
        "id": "3OM5aFjfieYc"
      },
      "id": "3OM5aFjfieYc",
      "execution_count": null,
      "outputs": []
    },
    {
      "cell_type": "code",
      "source": [
        ""
      ],
      "metadata": {
        "id": "vrF7WQL3ieap"
      },
      "id": "vrF7WQL3ieap",
      "execution_count": null,
      "outputs": []
    }
  ],
  "metadata": {
    "kernelspec": {
      "display_name": "Python 3 (ipykernel)",
      "language": "python",
      "name": "python3"
    },
    "language_info": {
      "codemirror_mode": {
        "name": "ipython",
        "version": 3
      },
      "file_extension": ".py",
      "mimetype": "text/x-python",
      "name": "python",
      "nbconvert_exporter": "python",
      "pygments_lexer": "ipython3",
      "version": "3.9.7"
    },
    "colab": {
      "name": "Gold Forecasting using Time Series Models-1 .ipynb",
      "provenance": [],
      "collapsed_sections": [
        "98cf93df"
      ]
    }
  },
  "nbformat": 4,
  "nbformat_minor": 5
}